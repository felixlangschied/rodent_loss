{
 "cells": [
  {
   "cell_type": "code",
   "execution_count": 5,
   "metadata": {},
   "outputs": [],
   "source": [
    "\n",
    "mirfile = f'../data/mirna_targetscan_input.txt'\n",
    "miR_context_scores = f'../data/mirna_contextscore_input.txt'\n",
    "taxids = {'9606', '10090', '9544', '10116', '9913', '9615', '13616', '9031', '8364'}\n",
    "\n",
    "\n",
    "with open(mirfile, 'w') as of:\n",
    "    taxstring = ';'.join(taxids)\n",
    "    of.write(f'Mir-197\\tUCACCAC\\t{taxstring}\\n')\n",
    "    of.write(f'Mir-769\\tGAGACCU\\t{taxstring}\\n')\n",
    "\n",
    "\n",
    "with open(miR_context_scores, 'w') as of:\n",
    "    for taxon in taxids:\n",
    "        of.write(f'Mir-197\\t{taxon}\\tMir-197-3p\\tUUCACCACCUUCUCCACCCAGC\\n')\n",
    "        of.write(f'Mir-769\\t{taxon}\\tMir-769-5p\\tUGAGACCUCUGGGUUCUGAGCU\\n')"
   ]
  }
 ],
 "metadata": {
  "kernelspec": {
   "display_name": "rodent_loss",
   "language": "python",
   "name": "python3"
  },
  "language_info": {
   "codemirror_mode": {
    "name": "ipython",
    "version": 3
   },
   "file_extension": ".py",
   "mimetype": "text/x-python",
   "name": "python",
   "nbconvert_exporter": "python",
   "pygments_lexer": "ipython3",
   "version": "3.12.5"
  }
 },
 "nbformat": 4,
 "nbformat_minor": 2
}
