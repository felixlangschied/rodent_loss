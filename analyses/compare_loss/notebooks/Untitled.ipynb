{
 "cells": [
  {
   "cell_type": "code",
   "execution_count": 1,
   "id": "77d07eca-e87f-4b05-b1e6-6732d960a85b",
   "metadata": {},
   "outputs": [
    {
     "ename": "NexusError",
     "evalue": "Unknown command: format ",
     "output_type": "error",
     "traceback": [
      "\u001b[0;31m---------------------------------------------------------------------------\u001b[0m",
      "\u001b[0;31mNexusError\u001b[0m                                Traceback (most recent call last)",
      "Cell \u001b[0;32mIn[1], line 7\u001b[0m\n\u001b[1;32m      4\u001b[0m file_path \u001b[38;5;241m=\u001b[39m \u001b[38;5;124m\"\u001b[39m\u001b[38;5;124m../data/ESM_01_curated_matrix_36_taxa.txt\u001b[39m\u001b[38;5;124m\"\u001b[39m\n\u001b[1;32m      6\u001b[0m \u001b[38;5;66;03m# Read the Nexus file\u001b[39;00m\n\u001b[0;32m----> 7\u001b[0m alignment \u001b[38;5;241m=\u001b[39m \u001b[43mAlignIO\u001b[49m\u001b[38;5;241;43m.\u001b[39;49m\u001b[43mread\u001b[49m\u001b[43m(\u001b[49m\u001b[43mfile_path\u001b[49m\u001b[43m,\u001b[49m\u001b[43m \u001b[49m\u001b[38;5;124;43m\"\u001b[39;49m\u001b[38;5;124;43mnexus\u001b[39;49m\u001b[38;5;124;43m\"\u001b[39;49m\u001b[43m)\u001b[49m\n\u001b[1;32m      9\u001b[0m \u001b[38;5;66;03m# Access the alignment information\u001b[39;00m\n\u001b[1;32m     10\u001b[0m \u001b[38;5;28mprint\u001b[39m(\u001b[38;5;124mf\u001b[39m\u001b[38;5;124m\"\u001b[39m\u001b[38;5;124mNumber of sequences: \u001b[39m\u001b[38;5;132;01m{\u001b[39;00m\u001b[38;5;28mlen\u001b[39m(alignment)\u001b[38;5;132;01m}\u001b[39;00m\u001b[38;5;124m\"\u001b[39m)\n",
      "File \u001b[0;32m~/miniforge3/envs/DA/lib/python3.12/site-packages/Bio/AlignIO/__init__.py:384\u001b[0m, in \u001b[0;36mread\u001b[0;34m(handle, format, seq_count)\u001b[0m\n\u001b[1;32m    382\u001b[0m iterator \u001b[38;5;241m=\u001b[39m parse(handle, \u001b[38;5;28mformat\u001b[39m, seq_count)\n\u001b[1;32m    383\u001b[0m \u001b[38;5;28;01mtry\u001b[39;00m:\n\u001b[0;32m--> 384\u001b[0m     alignment \u001b[38;5;241m=\u001b[39m \u001b[38;5;28;43mnext\u001b[39;49m\u001b[43m(\u001b[49m\u001b[43miterator\u001b[49m\u001b[43m)\u001b[49m\n\u001b[1;32m    385\u001b[0m \u001b[38;5;28;01mexcept\u001b[39;00m \u001b[38;5;167;01mStopIteration\u001b[39;00m:\n\u001b[1;32m    386\u001b[0m     \u001b[38;5;28;01mraise\u001b[39;00m \u001b[38;5;167;01mValueError\u001b[39;00m(\u001b[38;5;124m\"\u001b[39m\u001b[38;5;124mNo records found in handle\u001b[39m\u001b[38;5;124m\"\u001b[39m) \u001b[38;5;28;01mfrom\u001b[39;00m \u001b[38;5;28;01mNone\u001b[39;00m\n",
      "File \u001b[0;32m~/miniforge3/envs/DA/lib/python3.12/site-packages/Bio/AlignIO/__init__.py:335\u001b[0m, in \u001b[0;36mparse\u001b[0;34m(handle, format, seq_count)\u001b[0m\n\u001b[1;32m    332\u001b[0m \u001b[38;5;28;01melse\u001b[39;00m:\n\u001b[1;32m    333\u001b[0m     \u001b[38;5;28;01mraise\u001b[39;00m \u001b[38;5;167;01mValueError\u001b[39;00m(\u001b[38;5;124mf\u001b[39m\u001b[38;5;124m\"\u001b[39m\u001b[38;5;124mUnknown format \u001b[39m\u001b[38;5;124m'\u001b[39m\u001b[38;5;132;01m{\u001b[39;00m\u001b[38;5;28mformat\u001b[39m\u001b[38;5;132;01m}\u001b[39;00m\u001b[38;5;124m'\u001b[39m\u001b[38;5;124m\"\u001b[39m)\n\u001b[0;32m--> 335\u001b[0m \u001b[38;5;28;01myield from\u001b[39;00m i\n",
      "File \u001b[0;32m~/miniforge3/envs/DA/lib/python3.12/site-packages/Bio/AlignIO/NexusIO.py:44\u001b[0m, in \u001b[0;36mNexusIterator\u001b[0;34m(handle, seq_count)\u001b[0m\n\u001b[1;32m     31\u001b[0m \u001b[38;5;28;01mdef\u001b[39;00m \u001b[38;5;21mNexusIterator\u001b[39m(\n\u001b[1;32m     32\u001b[0m     handle: IO[\u001b[38;5;28mstr\u001b[39m], seq_count: Optional[\u001b[38;5;28mint\u001b[39m] \u001b[38;5;241m=\u001b[39m \u001b[38;5;28;01mNone\u001b[39;00m\n\u001b[1;32m     33\u001b[0m ) \u001b[38;5;241m-\u001b[39m\u001b[38;5;241m>\u001b[39m Iterator[MultipleSeqAlignment]:\n\u001b[1;32m     34\u001b[0m \u001b[38;5;250m    \u001b[39m\u001b[38;5;124;03m\"\"\"Return SeqRecord objects from a Nexus file.\u001b[39;00m\n\u001b[1;32m     35\u001b[0m \n\u001b[1;32m     36\u001b[0m \u001b[38;5;124;03m    Thus uses the Bio.Nexus module to do the hard work.\u001b[39;00m\n\u001b[0;32m   (...)\u001b[0m\n\u001b[1;32m     42\u001b[0m \u001b[38;5;124;03m    meaning this iterator will only yield one MultipleSeqAlignment.\u001b[39;00m\n\u001b[1;32m     43\u001b[0m \u001b[38;5;124;03m    \"\"\"\u001b[39;00m\n\u001b[0;32m---> 44\u001b[0m     n \u001b[38;5;241m=\u001b[39m \u001b[43mNexus\u001b[49m\u001b[38;5;241;43m.\u001b[39;49m\u001b[43mNexus\u001b[49m\u001b[43m(\u001b[49m\u001b[43mhandle\u001b[49m\u001b[43m)\u001b[49m\n\u001b[1;32m     45\u001b[0m     \u001b[38;5;28;01mif\u001b[39;00m \u001b[38;5;129;01mnot\u001b[39;00m n\u001b[38;5;241m.\u001b[39mmatrix:\n\u001b[1;32m     46\u001b[0m         \u001b[38;5;66;03m# No alignment found\u001b[39;00m\n\u001b[1;32m     47\u001b[0m         \u001b[38;5;28;01mreturn\u001b[39;00m\n",
      "File \u001b[0;32m~/miniforge3/envs/DA/lib/python3.12/site-packages/Bio/Nexus/Nexus.py:663\u001b[0m, in \u001b[0;36mNexus.__init__\u001b[0;34m(self, input)\u001b[0m\n\u001b[1;32m    660\u001b[0m \u001b[38;5;28mself\u001b[39m\u001b[38;5;241m.\u001b[39moptions[\u001b[38;5;124m\"\u001b[39m\u001b[38;5;124mgapmode\u001b[39m\u001b[38;5;124m\"\u001b[39m] \u001b[38;5;241m=\u001b[39m \u001b[38;5;124m\"\u001b[39m\u001b[38;5;124mmissing\u001b[39m\u001b[38;5;124m\"\u001b[39m\n\u001b[1;32m    662\u001b[0m \u001b[38;5;28;01mif\u001b[39;00m \u001b[38;5;28minput\u001b[39m:\n\u001b[0;32m--> 663\u001b[0m     \u001b[38;5;28;43mself\u001b[39;49m\u001b[38;5;241;43m.\u001b[39;49m\u001b[43mread\u001b[49m\u001b[43m(\u001b[49m\u001b[38;5;28;43minput\u001b[39;49m\u001b[43m)\u001b[49m\n\u001b[1;32m    664\u001b[0m \u001b[38;5;28;01melse\u001b[39;00m:\n\u001b[1;32m    665\u001b[0m     \u001b[38;5;28mself\u001b[39m\u001b[38;5;241m.\u001b[39mread(DEFAULTNEXUS)\n",
      "File \u001b[0;32m~/miniforge3/envs/DA/lib/python3.12/site-packages/Bio/Nexus/Nexus.py:724\u001b[0m, in \u001b[0;36mNexus.read\u001b[0;34m(self, input)\u001b[0m\n\u001b[1;32m    722\u001b[0m     \u001b[38;5;28;01mbreak\u001b[39;00m\n\u001b[1;32m    723\u001b[0m \u001b[38;5;28;01mif\u001b[39;00m title \u001b[38;5;129;01min\u001b[39;00m KNOWN_NEXUS_BLOCKS:\n\u001b[0;32m--> 724\u001b[0m     \u001b[38;5;28;43mself\u001b[39;49m\u001b[38;5;241;43m.\u001b[39;49m\u001b[43m_parse_nexus_block\u001b[49m\u001b[43m(\u001b[49m\u001b[43mtitle\u001b[49m\u001b[43m,\u001b[49m\u001b[43m \u001b[49m\u001b[43mcontents\u001b[49m\u001b[43m)\u001b[49m\n\u001b[1;32m    725\u001b[0m \u001b[38;5;28;01melse\u001b[39;00m:\n\u001b[1;32m    726\u001b[0m     \u001b[38;5;28mself\u001b[39m\u001b[38;5;241m.\u001b[39m_unknown_nexus_block(title, contents)\n",
      "File \u001b[0;32m~/miniforge3/envs/DA/lib/python3.12/site-packages/Bio/Nexus/Nexus.py:767\u001b[0m, in \u001b[0;36mNexus._parse_nexus_block\u001b[0;34m(self, title, contents)\u001b[0m\n\u001b[1;32m    765\u001b[0m     \u001b[38;5;28mgetattr\u001b[39m(\u001b[38;5;28mself\u001b[39m, \u001b[38;5;124m\"\u001b[39m\u001b[38;5;124m_\u001b[39m\u001b[38;5;124m\"\u001b[39m \u001b[38;5;241m+\u001b[39m line\u001b[38;5;241m.\u001b[39mcommand)(line\u001b[38;5;241m.\u001b[39moptions)\n\u001b[1;32m    766\u001b[0m \u001b[38;5;28;01mexcept\u001b[39;00m \u001b[38;5;167;01mAttributeError\u001b[39;00m:\n\u001b[0;32m--> 767\u001b[0m     \u001b[38;5;28;01mraise\u001b[39;00m NexusError(\u001b[38;5;124mf\u001b[39m\u001b[38;5;124m\"\u001b[39m\u001b[38;5;124mUnknown command: \u001b[39m\u001b[38;5;132;01m{\u001b[39;00mline\u001b[38;5;241m.\u001b[39mcommand\u001b[38;5;132;01m}\u001b[39;00m\u001b[38;5;124m \u001b[39m\u001b[38;5;124m\"\u001b[39m) \u001b[38;5;28;01mfrom\u001b[39;00m \u001b[38;5;28;01mNone\u001b[39;00m\n",
      "\u001b[0;31mNexusError\u001b[0m: Unknown command: format "
     ]
    }
   ],
   "source": [
    "from Bio import AlignIO\n",
    "\n",
    "# Specify the path to your Nexus file\n",
    "file_path = \"../data/ESM_01_curated_matrix_36_taxa.txt\"\n",
    "\n",
    "# Read the Nexus file\n",
    "alignment = AlignIO.read(file_path, \"nexus\")\n",
    "\n",
    "# Access the alignment information\n",
    "print(f\"Number of sequences: {len(alignment)}\")\n",
    "print(f\"Alignment length: {alignment.get_alignment_length()}\")\n",
    "\n",
    "# Iterate over the sequences\n",
    "for record in alignment:\n",
    "    print(f\"{record.id}: {record.seq}\")"
   ]
  },
  {
   "cell_type": "code",
   "execution_count": 2,
   "id": "9d090f14-f4e3-4a07-aa76-6d5ae8284a70",
   "metadata": {},
   "outputs": [
    {
     "ename": "NexusError",
     "evalue": "Unknown command: format ",
     "output_type": "error",
     "traceback": [
      "\u001b[0;31m---------------------------------------------------------------------------\u001b[0m",
      "\u001b[0;31mNexusError\u001b[0m                                Traceback (most recent call last)",
      "Cell \u001b[0;32mIn[2], line 7\u001b[0m\n\u001b[1;32m      4\u001b[0m file_path \u001b[38;5;241m=\u001b[39m \u001b[38;5;124m\"\u001b[39m\u001b[38;5;124m../data/ESM_01_curated_matrix_36_taxa.txt\u001b[39m\u001b[38;5;124m\"\u001b[39m\n\u001b[1;32m      6\u001b[0m \u001b[38;5;66;03m# Read the Nexus file\u001b[39;00m\n\u001b[0;32m----> 7\u001b[0m nexus \u001b[38;5;241m=\u001b[39m \u001b[43mNexus\u001b[49m\u001b[38;5;241;43m.\u001b[39;49m\u001b[43mNexus\u001b[49m\u001b[43m(\u001b[49m\u001b[43mfile_path\u001b[49m\u001b[43m)\u001b[49m\n\u001b[1;32m      9\u001b[0m \u001b[38;5;66;03m# Access information about the data\u001b[39;00m\n\u001b[1;32m     10\u001b[0m \u001b[38;5;28mprint\u001b[39m(\u001b[38;5;124m\"\u001b[39m\u001b[38;5;124mTaxa:\u001b[39m\u001b[38;5;124m\"\u001b[39m, nexus\u001b[38;5;241m.\u001b[39mtaxlabels)\n",
      "File \u001b[0;32m~/miniforge3/envs/DA/lib/python3.12/site-packages/Bio/Nexus/Nexus.py:663\u001b[0m, in \u001b[0;36mNexus.__init__\u001b[0;34m(self, input)\u001b[0m\n\u001b[1;32m    660\u001b[0m \u001b[38;5;28mself\u001b[39m\u001b[38;5;241m.\u001b[39moptions[\u001b[38;5;124m\"\u001b[39m\u001b[38;5;124mgapmode\u001b[39m\u001b[38;5;124m\"\u001b[39m] \u001b[38;5;241m=\u001b[39m \u001b[38;5;124m\"\u001b[39m\u001b[38;5;124mmissing\u001b[39m\u001b[38;5;124m\"\u001b[39m\n\u001b[1;32m    662\u001b[0m \u001b[38;5;28;01mif\u001b[39;00m \u001b[38;5;28minput\u001b[39m:\n\u001b[0;32m--> 663\u001b[0m     \u001b[38;5;28;43mself\u001b[39;49m\u001b[38;5;241;43m.\u001b[39;49m\u001b[43mread\u001b[49m\u001b[43m(\u001b[49m\u001b[38;5;28;43minput\u001b[39;49m\u001b[43m)\u001b[49m\n\u001b[1;32m    664\u001b[0m \u001b[38;5;28;01melse\u001b[39;00m:\n\u001b[1;32m    665\u001b[0m     \u001b[38;5;28mself\u001b[39m\u001b[38;5;241m.\u001b[39mread(DEFAULTNEXUS)\n",
      "File \u001b[0;32m~/miniforge3/envs/DA/lib/python3.12/site-packages/Bio/Nexus/Nexus.py:724\u001b[0m, in \u001b[0;36mNexus.read\u001b[0;34m(self, input)\u001b[0m\n\u001b[1;32m    722\u001b[0m     \u001b[38;5;28;01mbreak\u001b[39;00m\n\u001b[1;32m    723\u001b[0m \u001b[38;5;28;01mif\u001b[39;00m title \u001b[38;5;129;01min\u001b[39;00m KNOWN_NEXUS_BLOCKS:\n\u001b[0;32m--> 724\u001b[0m     \u001b[38;5;28;43mself\u001b[39;49m\u001b[38;5;241;43m.\u001b[39;49m\u001b[43m_parse_nexus_block\u001b[49m\u001b[43m(\u001b[49m\u001b[43mtitle\u001b[49m\u001b[43m,\u001b[49m\u001b[43m \u001b[49m\u001b[43mcontents\u001b[49m\u001b[43m)\u001b[49m\n\u001b[1;32m    725\u001b[0m \u001b[38;5;28;01melse\u001b[39;00m:\n\u001b[1;32m    726\u001b[0m     \u001b[38;5;28mself\u001b[39m\u001b[38;5;241m.\u001b[39m_unknown_nexus_block(title, contents)\n",
      "File \u001b[0;32m~/miniforge3/envs/DA/lib/python3.12/site-packages/Bio/Nexus/Nexus.py:767\u001b[0m, in \u001b[0;36mNexus._parse_nexus_block\u001b[0;34m(self, title, contents)\u001b[0m\n\u001b[1;32m    765\u001b[0m     \u001b[38;5;28mgetattr\u001b[39m(\u001b[38;5;28mself\u001b[39m, \u001b[38;5;124m\"\u001b[39m\u001b[38;5;124m_\u001b[39m\u001b[38;5;124m\"\u001b[39m \u001b[38;5;241m+\u001b[39m line\u001b[38;5;241m.\u001b[39mcommand)(line\u001b[38;5;241m.\u001b[39moptions)\n\u001b[1;32m    766\u001b[0m \u001b[38;5;28;01mexcept\u001b[39;00m \u001b[38;5;167;01mAttributeError\u001b[39;00m:\n\u001b[0;32m--> 767\u001b[0m     \u001b[38;5;28;01mraise\u001b[39;00m NexusError(\u001b[38;5;124mf\u001b[39m\u001b[38;5;124m\"\u001b[39m\u001b[38;5;124mUnknown command: \u001b[39m\u001b[38;5;132;01m{\u001b[39;00mline\u001b[38;5;241m.\u001b[39mcommand\u001b[38;5;132;01m}\u001b[39;00m\u001b[38;5;124m \u001b[39m\u001b[38;5;124m\"\u001b[39m) \u001b[38;5;28;01mfrom\u001b[39;00m \u001b[38;5;28;01mNone\u001b[39;00m\n",
      "\u001b[0;31mNexusError\u001b[0m: Unknown command: format "
     ]
    }
   ],
   "source": [
    "from Bio.Nexus import Nexus\n",
    "\n",
    "# Specify the path to your Nexus file\n",
    "file_path = \"../data/ESM_01_curated_matrix_36_taxa.txt\"\n",
    "\n",
    "# Read the Nexus file\n",
    "nexus = Nexus.Nexus(file_path)\n",
    "\n",
    "# Access information about the data\n",
    "print(\"Taxa:\", nexus.taxlabels)\n",
    "print(\"Trees:\", nexus.trees)"
   ]
  }
 ],
 "metadata": {
  "kernelspec": {
   "display_name": "Python 3 (ipykernel)",
   "language": "python",
   "name": "python3"
  },
  "language_info": {
   "codemirror_mode": {
    "name": "ipython",
    "version": 3
   },
   "file_extension": ".py",
   "mimetype": "text/x-python",
   "name": "python",
   "nbconvert_exporter": "python",
   "pygments_lexer": "ipython3",
   "version": "3.12.3"
  }
 },
 "nbformat": 4,
 "nbformat_minor": 5
}
