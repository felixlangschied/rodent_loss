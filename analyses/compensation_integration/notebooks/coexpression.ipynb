{
 "cells": [
  {
   "cell_type": "markdown",
   "metadata": {},
   "source": [
    "## Imports"
   ]
  },
  {
   "cell_type": "code",
   "execution_count": 85,
   "metadata": {},
   "outputs": [],
   "source": [
    "import matplotlib.pyplot as plt\n",
    "import seaborn as sns\n",
    "from pathlib import Path\n",
    "from scipy.spatial.distance import pdist, squareform\n",
    "import plotly.express as px\n",
    "import pandas as pd\n",
    "import numpy as np\n",
    "from scipy.stats import mannwhitneyu, ks_2samp"
   ]
  },
  {
   "cell_type": "markdown",
   "metadata": {},
   "source": [
    "## Input"
   ]
  },
  {
   "cell_type": "code",
   "execution_count": 86,
   "metadata": {},
   "outputs": [],
   "source": [
    "PROJECTDIR = Path('.').resolve().parents[2]\n",
    "lossfam_path = f'{PROJECTDIR}/external_data/all_rodentlost_mirfams.list'\n",
    "# mirgenedb 3.0\n",
    "# expression_path = '../data/hsa-tissueItems.txt'\n",
    "# mirgenedb 2.1\n",
    "expression_path = '/share/project/felixl/MirGeneDB/2.1/hsa_expressionPerTissue.txt'\n",
    "OUTPATH = f'{PROJECTDIR}/publication/supplement_figures/coexpression_mirgenedb21.png'"
   ]
  },
  {
   "cell_type": "markdown",
   "metadata": {},
   "source": [
    "## Variables"
   ]
  },
  {
   "cell_type": "code",
   "execution_count": 87,
   "metadata": {},
   "outputs": [],
   "source": [
    "binary = True\n",
    "binary_read_cutoff = 15\n",
    "metric = 'euclidean'"
   ]
  },
  {
   "cell_type": "markdown",
   "metadata": {},
   "source": [
    "## Functions"
   ]
  },
  {
   "cell_type": "code",
   "execution_count": 88,
   "metadata": {},
   "outputs": [],
   "source": [
    "def mirna2mirfam(mirna):\n",
    "    return '-'.join(mirna.split('-')[1:3]).split('_')[0]\n",
    "\n",
    "\n",
    "def parse_data(path):\n",
    "    df = pd.read_csv(path)\n",
    "    #filter out knockout tissues\n",
    "    df = df.loc[:, ~df.columns.str.contains(\"knockout\")]\n",
    "    df['mirfam'] = df['Gene name'].apply(mirna2mirfam)\n",
    "    \n",
    "    # fill NaN values with 0\n",
    "    \n",
    "    # take hightes read count of miRNA in family\n",
    "    fdf = df.drop(columns=['Gene name'])\n",
    "    fdf = fdf.groupby(['mirfam']).max()\n",
    "    return fdf\n",
    "\n",
    "\n",
    "def binarize_table(df, cutoff):\n",
    "    return df.map(lambda x: 1 if x > cutoff else 0)   \n",
    "\n",
    "\n",
    "\n",
    "def calculate_vector_distance(df, metric):\n",
    "    distances = pdist(df.values, metric)\n",
    "\n",
    "    return distances\n",
    "\n",
    "\n",
    "def random_samples(df, samplesize, metric, iterations=10000):\n",
    "    sample_distances = []\n",
    "    for i in range(iterations):\n",
    "        sample = df.sample(n=samplesize)\n",
    "        sample_distances.extend(calculate_vector_distance(sample, metric))\n",
    "        \n",
    "    df = pd.DataFrame(sample_distances, columns=['distance'])\n",
    "    df['type'] = 'background'\n",
    "    return df\n",
    "\n",
    "\n",
    "def lost_distance(df, metric):\n",
    "    distance = calculate_vector_distance(df, metric)\n",
    "    df = pd.DataFrame(distance, columns=['distance'])\n",
    "    df['type'] = 'sample'\n",
    "    return df\n",
    "\n",
    "\n",
    "def load_mirnas(path):\n",
    "    with open(path) as fh:\n",
    "        lostfams = [line.strip() for line in fh if line]\n",
    "    # Mir-2277 not in MirGeneDB 2.1 anymore\n",
    "    lostfams.remove('Mir-2277')\n",
    "    return lostfams\n",
    "    \n",
    "    \n",
    "def permutation_test(sample, random_samples, n_permutations=10000):\n",
    "    observed_stat = np.abs(np.mean(sample) - np.mean(random_samples))\n",
    "    combined = np.concatenate([sample, random_samples])\n",
    "    count = 0\n",
    "    \n",
    "    # Perform permutations\n",
    "    for _ in range(n_permutations):\n",
    "        np.random.shuffle(combined)\n",
    "        perm_sample = combined[:len(sample)]\n",
    "        perm_random_samples = combined[len(sample):]\n",
    "        perm_stat = np.abs(np.mean(perm_sample) - np.mean(perm_random_samples))\n",
    "        if perm_stat >= observed_stat:\n",
    "            count += 1\n",
    "\n",
    "    p_value = count / n_permutations\n",
    "    return p_value\n"
   ]
  },
  {
   "cell_type": "markdown",
   "metadata": {},
   "source": [
    "## Main function"
   ]
  },
  {
   "cell_type": "code",
   "execution_count": 93,
   "metadata": {},
   "outputs": [],
   "source": [
    "def mirna_tissue_coexpression(path, binary, binary_read_cutoff, metric):\n",
    "    # all miRNAs\n",
    "    expdf = parse_data(path)\n",
    "    binary_expdf = binarize_table(expdf, binary_read_cutoff)\n",
    "\n",
    "    # lost miRNAs\n",
    "    lostfams = load_mirnas(lossfam_path)\n",
    "    lost_binary_expdf = binary_expdf.loc[lostfams]\n",
    "    lost_expdf = expdf.loc[lostfams]\n",
    "    \n",
    "    # visualize input\n",
    "    fig = px.imshow(lost_expdf, zmax=50, title='Normalized Reads (capped at 50)')\n",
    "    fig.show()\n",
    "    if binary:\n",
    "        fig = px.imshow(lost_binary_expdf, title=f'Binary representation (threshold={binary_read_cutoff})')\n",
    "        fig.show()\n",
    "        \n",
    "    # calculate distances\n",
    "    if binary:\n",
    "        random_distances = random_samples(binary_expdf, samplesize=len(lostfams), metric=metric)\n",
    "        lost_distances = lost_distance(lost_binary_expdf, metric)\n",
    "    else:\n",
    "        random_distances = random_samples(expdf, samplesize=len(lostfams), metric=metric)\n",
    "        lost_distances = lost_distance(lost_expdf, metric)\n",
    "        \n",
    "\n",
    "    # statistical tests\n",
    "    ks_stat, ks_p = ks_2samp(random_distances.distance.values, lost_distances.distance.values)\n",
    "    u_stat, u_p = mannwhitneyu(random_distances.distance.values, lost_distances.distance.values)\n",
    "\n",
    "    print('Test whether the two distributions have different shapes')\n",
    "    print(f\"Kolmogorov-Smirnov test p-value: {ks_p}\")\n",
    "    print('')\n",
    "    print('Test whether the two distributions have different medians')\n",
    "    print(f'Mann-Whitney U Test p-value: {u_p}')\n",
    "    print('')\n",
    "    \n",
    "    # permutation test takes couple of minutes\n",
    "    permutation = False\n",
    "    if permutation:\n",
    "        permutation_p = permutation_test(random_distances.distance.values, lost_distances.distance.values)\n",
    "        print('Permutation test')\n",
    "        print(f\"Permutation test p-value: {permutation_p}\")\n",
    "    \n",
    "    \n",
    "    # plot\n",
    "    sns.set(rc={'figure.figsize':(6,4), 'ytick.left': True, 'xtick.bottom': True}, font_scale = 1.2, style='white')\n",
    "    sns.histplot(data=random_distances, x='distance', stat='density', alpha=0.1, element=\"step\", color='grey', bins=10, label='background')\n",
    "    sns.histplot(data=lost_distances, x='distance', stat='density', alpha=0.5, bins=10, element=\"step\", label='lost_miRNAs')\n",
    "    \n",
    "    plt.axvline(x=np.median(random_distances.distance.values), color='darkgrey', linestyle='--', linewidth=5, label='median_background')\n",
    "    plt.axvline(x=np.median(lost_distances.distance.values), color='tab:blue', linestyle='-', linewidth=1, label='median_lost_miRNAs')\n",
    "    \n",
    "    plt.xlabel(f'{metric} distance')\n",
    "    plt.legend()\n",
    "    plt.tight_layout()\n",
    "    plt.savefig(OUTPATH, dpi=600)\n",
    "    plt.show()\n",
    "\n"
   ]
  },
  {
   "cell_type": "markdown",
   "metadata": {},
   "source": [
    "## Output"
   ]
  },
  {
   "cell_type": "code",
   "execution_count": 94,
   "metadata": {},
   "outputs": [
    {
     "data": {
      "application/vnd.plotly.v1+json": {
       "config": {
        "plotlyServerURL": "https://plot.ly"
       },
       "data": [
        {
         "coloraxis": "coloraxis",
         "hovertemplate": "x: %{x}<br>mirfam: %{y}<br>color: %{z}<extra></extra>",
         "name": "0",
         "type": "heatmap",
         "x": [
          "adipocyte",
          "artery",
          "bladder",
          "bone",
          "bowel_colon",
          "bowel_duodenum",
          "bowel_jejunum",
          "bowel_small_intestine",
          "brain_arachnoid_matter",
          "brain_cerebellum",
          "brain_dura_matter",
          "brain_frontal_lobe",
          "brain_grey_matter",
          "brain_nucleus_caudatus",
          "brain_occipital",
          "brain_pituitary",
          "brain_temporal_lobe",
          "brain_thalamus",
          "brain_white_matter",
          "esophagus",
          "gallbladder",
          "heart",
          "heart_atrium",
          "heart_muscle",
          "heart_pericardium",
          "heart_ventricle",
          "kidney",
          "liver",
          "lung",
          "lymph_nodes",
          "muscle",
          "nerve",
          "pancreas",
          "placenta",
          "pleurae",
          "skin",
          "spinal_cord",
          "spleen",
          "stomach",
          "submandibular_gland",
          "testis",
          "thyroid",
          "tongue",
          "trachea",
          "vein"
         ],
         "xaxis": "x",
         "y": [
          "Mir-489",
          "Mir-6529",
          "Mir-1296",
          "Mir-885",
          "Mir-1277",
          "Mir-3613",
          "Mir-506",
          "Mir-197",
          "Mir-769",
          "Mir-9851",
          "Mir-1908",
          "Mir-1307",
          "Mir-3200",
          "Mir-766"
         ],
         "yaxis": "y",
         "z": [
          [
           5.38,
           2.14,
           1.07,
           9.08,
           1.01,
           4.79,
           3.94,
           3.11,
           3.68,
           1.99,
           9.88,
           3.83,
           2.02,
           1.67,
           1.25,
           18.53,
           4.89,
           5.88,
           1.27,
           4.71,
           2.46,
           9.2,
           5.95,
           12.26,
           12.04,
           0.54,
           86.78,
           3.16,
           6.85,
           7.11,
           11.62,
           6.7,
           1.5,
           17.41,
           7.62,
           9.69,
           2.4,
           11.21,
           1.7,
           3.43,
           3.06,
           9.39,
           3.19,
           14.96,
           1.78
          ],
          [
           0.05,
           0,
           0,
           0,
           0.08,
           0,
           0,
           0,
           0,
           0,
           0.07,
           0.1,
           0,
           0,
           0.23,
           0,
           0.04,
           0.05,
           0,
           0,
           0,
           0.02,
           0,
           0,
           0,
           0.09,
           0,
           0.02,
           0,
           0,
           0,
           0,
           0,
           0,
           0,
           0,
           0,
           0,
           0,
           0,
           0,
           0,
           0,
           0,
           0.04
          ],
          [
           1.33,
           3.44,
           0.93,
           1.59,
           1.27,
           6.96,
           2.61,
           0.9,
           5.03,
           1.01,
           0.81,
           12.03,
           15.07,
           10.52,
           9.6,
           2.46,
           6.41,
           13.41,
           13.97,
           1.46,
           0.96,
           1.47,
           0.92,
           1.85,
           1.1,
           0.8,
           2.05,
           1.1,
           0.73,
           0.96,
           1.52,
           5.81,
           0.86,
           24.11,
           1.55,
           1.12,
           7.86,
           6.61,
           1.64,
           1.57,
           0.98,
           1.47,
           1.84,
           1.21,
           8.48
          ],
          [
           2.25,
           12.42,
           0.69,
           8.99,
           1.27,
           15.97,
           47.61,
           0.88,
           16.42,
           0.92,
           1.12,
           52.66,
           82.94,
           80.87,
           55.68,
           21.22,
           25.49,
           65.42,
           79.25,
           4.23,
           2.81,
           34.38,
           0,
           82.14,
           5.1,
           0.3,
           1.43,
           121.53,
           1.49,
           1.39,
           15.11,
           25.2,
           1.42,
           0,
           4.82,
           4.62,
           58.25,
           33.35,
           10.42,
           110.99,
           2.62,
           10.71,
           2.69,
           0.31,
           45.64
          ],
          [
           136.49,
           80.7,
           53.53,
           133.98,
           104.37,
           293.63,
           182.03,
           86.77,
           167.02,
           44.76,
           141.15,
           338.33,
           92.47,
           286.75,
           381.77,
           109.47,
           160.28,
           289.86,
           280.62,
           89.99,
           78.16,
           127.32,
           219.56,
           103.94,
           63.43,
           159.34,
           102.77,
           193.9,
           100.54,
           123.04,
           52.25,
           149.1,
           66.24,
           8.29,
           97.33,
           108.25,
           380.12,
           219.73,
           100.25,
           97.69,
           85.53,
           111.87,
           312.01,
           155.46,
           91.34
          ],
          [
           456.68,
           93.15,
           51.35,
           359.39,
           233.69,
           176.32,
           185.75,
           114.52,
           127.47,
           100.2,
           364.87,
           366.52,
           95.37,
           134.81,
           289.79,
           109.16,
           345.22,
           689.32,
           209.02,
           166.67,
           85.54,
           176.92,
           188.74,
           139.85,
           155.54,
           280.24,
           208.11,
           405.53,
           376.73,
           184.52,
           104.49,
           168.71,
           137.86,
           17,
           208.88,
           100.46,
           231.2,
           393.56,
           128.75,
           207.49,
           107.2,
           104.26,
           150.42,
           166.2,
           130.75
          ],
          [
           8.66,
           3.5,
           1.24,
           1,
           10.02,
           11.3,
           2.17,
           2.96,
           5.49,
           1.03,
           8.15,
           2.36,
           4.47,
           11.51,
           1.96,
           409.29,
           3.73,
           1.56,
           4.07,
           1.2,
           14.68,
           17.44,
           5.19,
           37.28,
           7.05,
           0.78,
           687.4,
           5.72,
           5.09,
           2.52,
           2.93,
           13.92,
           1176.12,
           7.83,
           14.67,
           48.54,
           7.62,
           5.32,
           1.36,
           10.75,
           26489.52,
           254.82,
           6.11,
           1.09,
           0.88
          ],
          [
           173.62,
           79.65,
           33.36,
           115.43,
           210.51,
           128.15,
           130.18,
           55.88,
           82.67,
           619.99,
           429.04,
           258.89,
           78.95,
           179.21,
           428.72,
           74.3,
           243.5,
           438.62,
           154.61,
           158.87,
           43.55,
           171.67,
           280.2,
           113.97,
           72.76,
           317.07,
           68.11,
           216.42,
           107.92,
           97.73,
           56.33,
           133.46,
           66.18,
           213.19,
           109.4,
           59.18,
           151.52,
           116.15,
           60.48,
           78.77,
           59.52,
           54.99,
           51.08,
           64.15,
           465.67
          ],
          [
           63.84,
           33.99,
           14.07,
           37.14,
           27.06,
           133.15,
           22.66,
           34.59,
           68.53,
           32.39,
           53.41,
           319.91,
           127.58,
           566.13,
           203.4,
           127.38,
           232.35,
           382.63,
           202.36,
           24.51,
           20.97,
           29.66,
           43.55,
           21.68,
           31.09,
           29.26,
           39.63,
           26.49,
           33.24,
           37.94,
           12.86,
           200.32,
           22.95,
           173.43,
           33.1,
           60.16,
           245.17,
           112.71,
           30.58,
           31.85,
           55.52,
           36.14,
           67.96,
           32.84,
           134.53
          ],
          [
           0.03,
           0,
           0,
           0,
           0,
           0,
           0,
           0,
           0,
           0,
           0,
           0,
           0,
           0,
           0.02,
           0,
           0,
           0,
           0,
           0,
           0,
           0,
           0,
           0,
           0,
           0,
           0,
           0,
           0,
           0,
           0,
           0,
           0,
           0,
           0,
           0,
           0,
           0,
           0,
           0,
           0,
           0,
           0,
           0,
           0
          ],
          [
           20.08,
           9.15,
           0.74,
           3.48,
           20.99,
           11.45,
           1.2,
           0.83,
           3.89,
           80.26,
           39.7,
           26.53,
           5.45,
           10.97,
           65.09,
           10.11,
           20.05,
           33.5,
           23.29,
           29.49,
           0.84,
           19.37,
           20.19,
           1.56,
           0.99,
           86.62,
           2.01,
           5.84,
           9.03,
           3.16,
           0.63,
           16.26,
           1.18,
           0.16,
           2.52,
           4.62,
           11.78,
           14.67,
           0.87,
           1.89,
           13.17,
           0.78,
           0.9,
           1.44,
           70.04
          ],
          [
           1197.5,
           455.91,
           348.19,
           892.21,
           548.97,
           1167.44,
           562.6,
           466.09,
           1004.99,
           277.33,
           652.66,
           1197.76,
           843.26,
           1773.36,
           933.88,
           1369.1,
           836.5,
           1700.48,
           1218.68,
           590.82,
           252.92,
           855.39,
           887.79,
           1081.69,
           550.1,
           695.04,
           1785.66,
           958.07,
           641.07,
           484.29,
           220.18,
           974.57,
           443,
           262.61,
           577.49,
           404.5,
           1950.12,
           1858.57,
           691.53,
           540.06,
           605.2,
           1266.32,
           1129.91,
           423.01,
           682.23
          ],
          [
           2.21,
           4.9,
           0.61,
           3.63,
           1.1,
           30.66,
           1.6,
           1.08,
           6.17,
           2.12,
           0.54,
           33.33,
           24.07,
           112.12,
           21.85,
           24.06,
           21.57,
           74.02,
           43.19,
           0.97,
           0.85,
           3.24,
           2.47,
           4.51,
           1.74,
           2.83,
           3.27,
           1.46,
           1.8,
           1.81,
           1.78,
           33.28,
           1.11,
           0.3,
           4.21,
           4.35,
           84.47,
           29.53,
           4.11,
           1.16,
           2.32,
           5.4,
           1.96,
           1.85,
           21.95
          ],
          [
           9.88,
           6.77,
           1.84,
           9.23,
           27.88,
           7.07,
           4.32,
           5.46,
           4.19,
           63.37,
           32.5,
           36.14,
           8.5,
           6.85,
           52.27,
           3.72,
           22.55,
           45.5,
           9.22,
           21.42,
           3.28,
           12.66,
           24.93,
           3.04,
           1.82,
           35.63,
           4.36,
           12.51,
           8.49,
           13.53,
           1.95,
           5.95,
           7.97,
           6.39,
           3.32,
           3.06,
           7.67,
           14.34,
           5.64,
           6.54,
           21.32,
           3.11,
           2.77,
           3.72,
           35.67
          ]
         ]
        }
       ],
       "layout": {
        "coloraxis": {
         "cmax": 50,
         "cmin": 0,
         "colorscale": [
          [
           0,
           "#0d0887"
          ],
          [
           0.1111111111111111,
           "#46039f"
          ],
          [
           0.2222222222222222,
           "#7201a8"
          ],
          [
           0.3333333333333333,
           "#9c179e"
          ],
          [
           0.4444444444444444,
           "#bd3786"
          ],
          [
           0.5555555555555556,
           "#d8576b"
          ],
          [
           0.6666666666666666,
           "#ed7953"
          ],
          [
           0.7777777777777778,
           "#fb9f3a"
          ],
          [
           0.8888888888888888,
           "#fdca26"
          ],
          [
           1,
           "#f0f921"
          ]
         ]
        },
        "template": {
         "data": {
          "bar": [
           {
            "error_x": {
             "color": "#2a3f5f"
            },
            "error_y": {
             "color": "#2a3f5f"
            },
            "marker": {
             "line": {
              "color": "#E5ECF6",
              "width": 0.5
             },
             "pattern": {
              "fillmode": "overlay",
              "size": 10,
              "solidity": 0.2
             }
            },
            "type": "bar"
           }
          ],
          "barpolar": [
           {
            "marker": {
             "line": {
              "color": "#E5ECF6",
              "width": 0.5
             },
             "pattern": {
              "fillmode": "overlay",
              "size": 10,
              "solidity": 0.2
             }
            },
            "type": "barpolar"
           }
          ],
          "carpet": [
           {
            "aaxis": {
             "endlinecolor": "#2a3f5f",
             "gridcolor": "white",
             "linecolor": "white",
             "minorgridcolor": "white",
             "startlinecolor": "#2a3f5f"
            },
            "baxis": {
             "endlinecolor": "#2a3f5f",
             "gridcolor": "white",
             "linecolor": "white",
             "minorgridcolor": "white",
             "startlinecolor": "#2a3f5f"
            },
            "type": "carpet"
           }
          ],
          "choropleth": [
           {
            "colorbar": {
             "outlinewidth": 0,
             "ticks": ""
            },
            "type": "choropleth"
           }
          ],
          "contour": [
           {
            "colorbar": {
             "outlinewidth": 0,
             "ticks": ""
            },
            "colorscale": [
             [
              0,
              "#0d0887"
             ],
             [
              0.1111111111111111,
              "#46039f"
             ],
             [
              0.2222222222222222,
              "#7201a8"
             ],
             [
              0.3333333333333333,
              "#9c179e"
             ],
             [
              0.4444444444444444,
              "#bd3786"
             ],
             [
              0.5555555555555556,
              "#d8576b"
             ],
             [
              0.6666666666666666,
              "#ed7953"
             ],
             [
              0.7777777777777778,
              "#fb9f3a"
             ],
             [
              0.8888888888888888,
              "#fdca26"
             ],
             [
              1,
              "#f0f921"
             ]
            ],
            "type": "contour"
           }
          ],
          "contourcarpet": [
           {
            "colorbar": {
             "outlinewidth": 0,
             "ticks": ""
            },
            "type": "contourcarpet"
           }
          ],
          "heatmap": [
           {
            "colorbar": {
             "outlinewidth": 0,
             "ticks": ""
            },
            "colorscale": [
             [
              0,
              "#0d0887"
             ],
             [
              0.1111111111111111,
              "#46039f"
             ],
             [
              0.2222222222222222,
              "#7201a8"
             ],
             [
              0.3333333333333333,
              "#9c179e"
             ],
             [
              0.4444444444444444,
              "#bd3786"
             ],
             [
              0.5555555555555556,
              "#d8576b"
             ],
             [
              0.6666666666666666,
              "#ed7953"
             ],
             [
              0.7777777777777778,
              "#fb9f3a"
             ],
             [
              0.8888888888888888,
              "#fdca26"
             ],
             [
              1,
              "#f0f921"
             ]
            ],
            "type": "heatmap"
           }
          ],
          "heatmapgl": [
           {
            "colorbar": {
             "outlinewidth": 0,
             "ticks": ""
            },
            "colorscale": [
             [
              0,
              "#0d0887"
             ],
             [
              0.1111111111111111,
              "#46039f"
             ],
             [
              0.2222222222222222,
              "#7201a8"
             ],
             [
              0.3333333333333333,
              "#9c179e"
             ],
             [
              0.4444444444444444,
              "#bd3786"
             ],
             [
              0.5555555555555556,
              "#d8576b"
             ],
             [
              0.6666666666666666,
              "#ed7953"
             ],
             [
              0.7777777777777778,
              "#fb9f3a"
             ],
             [
              0.8888888888888888,
              "#fdca26"
             ],
             [
              1,
              "#f0f921"
             ]
            ],
            "type": "heatmapgl"
           }
          ],
          "histogram": [
           {
            "marker": {
             "pattern": {
              "fillmode": "overlay",
              "size": 10,
              "solidity": 0.2
             }
            },
            "type": "histogram"
           }
          ],
          "histogram2d": [
           {
            "colorbar": {
             "outlinewidth": 0,
             "ticks": ""
            },
            "colorscale": [
             [
              0,
              "#0d0887"
             ],
             [
              0.1111111111111111,
              "#46039f"
             ],
             [
              0.2222222222222222,
              "#7201a8"
             ],
             [
              0.3333333333333333,
              "#9c179e"
             ],
             [
              0.4444444444444444,
              "#bd3786"
             ],
             [
              0.5555555555555556,
              "#d8576b"
             ],
             [
              0.6666666666666666,
              "#ed7953"
             ],
             [
              0.7777777777777778,
              "#fb9f3a"
             ],
             [
              0.8888888888888888,
              "#fdca26"
             ],
             [
              1,
              "#f0f921"
             ]
            ],
            "type": "histogram2d"
           }
          ],
          "histogram2dcontour": [
           {
            "colorbar": {
             "outlinewidth": 0,
             "ticks": ""
            },
            "colorscale": [
             [
              0,
              "#0d0887"
             ],
             [
              0.1111111111111111,
              "#46039f"
             ],
             [
              0.2222222222222222,
              "#7201a8"
             ],
             [
              0.3333333333333333,
              "#9c179e"
             ],
             [
              0.4444444444444444,
              "#bd3786"
             ],
             [
              0.5555555555555556,
              "#d8576b"
             ],
             [
              0.6666666666666666,
              "#ed7953"
             ],
             [
              0.7777777777777778,
              "#fb9f3a"
             ],
             [
              0.8888888888888888,
              "#fdca26"
             ],
             [
              1,
              "#f0f921"
             ]
            ],
            "type": "histogram2dcontour"
           }
          ],
          "mesh3d": [
           {
            "colorbar": {
             "outlinewidth": 0,
             "ticks": ""
            },
            "type": "mesh3d"
           }
          ],
          "parcoords": [
           {
            "line": {
             "colorbar": {
              "outlinewidth": 0,
              "ticks": ""
             }
            },
            "type": "parcoords"
           }
          ],
          "pie": [
           {
            "automargin": true,
            "type": "pie"
           }
          ],
          "scatter": [
           {
            "fillpattern": {
             "fillmode": "overlay",
             "size": 10,
             "solidity": 0.2
            },
            "type": "scatter"
           }
          ],
          "scatter3d": [
           {
            "line": {
             "colorbar": {
              "outlinewidth": 0,
              "ticks": ""
             }
            },
            "marker": {
             "colorbar": {
              "outlinewidth": 0,
              "ticks": ""
             }
            },
            "type": "scatter3d"
           }
          ],
          "scattercarpet": [
           {
            "marker": {
             "colorbar": {
              "outlinewidth": 0,
              "ticks": ""
             }
            },
            "type": "scattercarpet"
           }
          ],
          "scattergeo": [
           {
            "marker": {
             "colorbar": {
              "outlinewidth": 0,
              "ticks": ""
             }
            },
            "type": "scattergeo"
           }
          ],
          "scattergl": [
           {
            "marker": {
             "colorbar": {
              "outlinewidth": 0,
              "ticks": ""
             }
            },
            "type": "scattergl"
           }
          ],
          "scattermapbox": [
           {
            "marker": {
             "colorbar": {
              "outlinewidth": 0,
              "ticks": ""
             }
            },
            "type": "scattermapbox"
           }
          ],
          "scatterpolar": [
           {
            "marker": {
             "colorbar": {
              "outlinewidth": 0,
              "ticks": ""
             }
            },
            "type": "scatterpolar"
           }
          ],
          "scatterpolargl": [
           {
            "marker": {
             "colorbar": {
              "outlinewidth": 0,
              "ticks": ""
             }
            },
            "type": "scatterpolargl"
           }
          ],
          "scatterternary": [
           {
            "marker": {
             "colorbar": {
              "outlinewidth": 0,
              "ticks": ""
             }
            },
            "type": "scatterternary"
           }
          ],
          "surface": [
           {
            "colorbar": {
             "outlinewidth": 0,
             "ticks": ""
            },
            "colorscale": [
             [
              0,
              "#0d0887"
             ],
             [
              0.1111111111111111,
              "#46039f"
             ],
             [
              0.2222222222222222,
              "#7201a8"
             ],
             [
              0.3333333333333333,
              "#9c179e"
             ],
             [
              0.4444444444444444,
              "#bd3786"
             ],
             [
              0.5555555555555556,
              "#d8576b"
             ],
             [
              0.6666666666666666,
              "#ed7953"
             ],
             [
              0.7777777777777778,
              "#fb9f3a"
             ],
             [
              0.8888888888888888,
              "#fdca26"
             ],
             [
              1,
              "#f0f921"
             ]
            ],
            "type": "surface"
           }
          ],
          "table": [
           {
            "cells": {
             "fill": {
              "color": "#EBF0F8"
             },
             "line": {
              "color": "white"
             }
            },
            "header": {
             "fill": {
              "color": "#C8D4E3"
             },
             "line": {
              "color": "white"
             }
            },
            "type": "table"
           }
          ]
         },
         "layout": {
          "annotationdefaults": {
           "arrowcolor": "#2a3f5f",
           "arrowhead": 0,
           "arrowwidth": 1
          },
          "autotypenumbers": "strict",
          "coloraxis": {
           "colorbar": {
            "outlinewidth": 0,
            "ticks": ""
           }
          },
          "colorscale": {
           "diverging": [
            [
             0,
             "#8e0152"
            ],
            [
             0.1,
             "#c51b7d"
            ],
            [
             0.2,
             "#de77ae"
            ],
            [
             0.3,
             "#f1b6da"
            ],
            [
             0.4,
             "#fde0ef"
            ],
            [
             0.5,
             "#f7f7f7"
            ],
            [
             0.6,
             "#e6f5d0"
            ],
            [
             0.7,
             "#b8e186"
            ],
            [
             0.8,
             "#7fbc41"
            ],
            [
             0.9,
             "#4d9221"
            ],
            [
             1,
             "#276419"
            ]
           ],
           "sequential": [
            [
             0,
             "#0d0887"
            ],
            [
             0.1111111111111111,
             "#46039f"
            ],
            [
             0.2222222222222222,
             "#7201a8"
            ],
            [
             0.3333333333333333,
             "#9c179e"
            ],
            [
             0.4444444444444444,
             "#bd3786"
            ],
            [
             0.5555555555555556,
             "#d8576b"
            ],
            [
             0.6666666666666666,
             "#ed7953"
            ],
            [
             0.7777777777777778,
             "#fb9f3a"
            ],
            [
             0.8888888888888888,
             "#fdca26"
            ],
            [
             1,
             "#f0f921"
            ]
           ],
           "sequentialminus": [
            [
             0,
             "#0d0887"
            ],
            [
             0.1111111111111111,
             "#46039f"
            ],
            [
             0.2222222222222222,
             "#7201a8"
            ],
            [
             0.3333333333333333,
             "#9c179e"
            ],
            [
             0.4444444444444444,
             "#bd3786"
            ],
            [
             0.5555555555555556,
             "#d8576b"
            ],
            [
             0.6666666666666666,
             "#ed7953"
            ],
            [
             0.7777777777777778,
             "#fb9f3a"
            ],
            [
             0.8888888888888888,
             "#fdca26"
            ],
            [
             1,
             "#f0f921"
            ]
           ]
          },
          "colorway": [
           "#636efa",
           "#EF553B",
           "#00cc96",
           "#ab63fa",
           "#FFA15A",
           "#19d3f3",
           "#FF6692",
           "#B6E880",
           "#FF97FF",
           "#FECB52"
          ],
          "font": {
           "color": "#2a3f5f"
          },
          "geo": {
           "bgcolor": "white",
           "lakecolor": "white",
           "landcolor": "#E5ECF6",
           "showlakes": true,
           "showland": true,
           "subunitcolor": "white"
          },
          "hoverlabel": {
           "align": "left"
          },
          "hovermode": "closest",
          "mapbox": {
           "style": "light"
          },
          "paper_bgcolor": "white",
          "plot_bgcolor": "#E5ECF6",
          "polar": {
           "angularaxis": {
            "gridcolor": "white",
            "linecolor": "white",
            "ticks": ""
           },
           "bgcolor": "#E5ECF6",
           "radialaxis": {
            "gridcolor": "white",
            "linecolor": "white",
            "ticks": ""
           }
          },
          "scene": {
           "xaxis": {
            "backgroundcolor": "#E5ECF6",
            "gridcolor": "white",
            "gridwidth": 2,
            "linecolor": "white",
            "showbackground": true,
            "ticks": "",
            "zerolinecolor": "white"
           },
           "yaxis": {
            "backgroundcolor": "#E5ECF6",
            "gridcolor": "white",
            "gridwidth": 2,
            "linecolor": "white",
            "showbackground": true,
            "ticks": "",
            "zerolinecolor": "white"
           },
           "zaxis": {
            "backgroundcolor": "#E5ECF6",
            "gridcolor": "white",
            "gridwidth": 2,
            "linecolor": "white",
            "showbackground": true,
            "ticks": "",
            "zerolinecolor": "white"
           }
          },
          "shapedefaults": {
           "line": {
            "color": "#2a3f5f"
           }
          },
          "ternary": {
           "aaxis": {
            "gridcolor": "white",
            "linecolor": "white",
            "ticks": ""
           },
           "baxis": {
            "gridcolor": "white",
            "linecolor": "white",
            "ticks": ""
           },
           "bgcolor": "#E5ECF6",
           "caxis": {
            "gridcolor": "white",
            "linecolor": "white",
            "ticks": ""
           }
          },
          "title": {
           "x": 0.05
          },
          "xaxis": {
           "automargin": true,
           "gridcolor": "white",
           "linecolor": "white",
           "ticks": "",
           "title": {
            "standoff": 15
           },
           "zerolinecolor": "white",
           "zerolinewidth": 2
          },
          "yaxis": {
           "automargin": true,
           "gridcolor": "white",
           "linecolor": "white",
           "ticks": "",
           "title": {
            "standoff": 15
           },
           "zerolinecolor": "white",
           "zerolinewidth": 2
          }
         }
        },
        "title": {
         "text": "Normalized Reads (capped at 50)"
        },
        "xaxis": {
         "anchor": "y",
         "constrain": "domain",
         "domain": [
          0,
          1
         ],
         "scaleanchor": "y"
        },
        "yaxis": {
         "anchor": "x",
         "autorange": "reversed",
         "constrain": "domain",
         "domain": [
          0,
          1
         ],
         "title": {
          "text": "mirfam"
         }
        }
       }
      }
     },
     "metadata": {},
     "output_type": "display_data"
    },
    {
     "data": {
      "application/vnd.plotly.v1+json": {
       "config": {
        "plotlyServerURL": "https://plot.ly"
       },
       "data": [
        {
         "coloraxis": "coloraxis",
         "hovertemplate": "x: %{x}<br>mirfam: %{y}<br>color: %{z}<extra></extra>",
         "name": "0",
         "type": "heatmap",
         "x": [
          "adipocyte",
          "artery",
          "bladder",
          "bone",
          "bowel_colon",
          "bowel_duodenum",
          "bowel_jejunum",
          "bowel_small_intestine",
          "brain_arachnoid_matter",
          "brain_cerebellum",
          "brain_dura_matter",
          "brain_frontal_lobe",
          "brain_grey_matter",
          "brain_nucleus_caudatus",
          "brain_occipital",
          "brain_pituitary",
          "brain_temporal_lobe",
          "brain_thalamus",
          "brain_white_matter",
          "esophagus",
          "gallbladder",
          "heart",
          "heart_atrium",
          "heart_muscle",
          "heart_pericardium",
          "heart_ventricle",
          "kidney",
          "liver",
          "lung",
          "lymph_nodes",
          "muscle",
          "nerve",
          "pancreas",
          "placenta",
          "pleurae",
          "skin",
          "spinal_cord",
          "spleen",
          "stomach",
          "submandibular_gland",
          "testis",
          "thyroid",
          "tongue",
          "trachea",
          "vein"
         ],
         "xaxis": "x",
         "y": [
          "Mir-489",
          "Mir-6529",
          "Mir-1296",
          "Mir-885",
          "Mir-1277",
          "Mir-3613",
          "Mir-506",
          "Mir-197",
          "Mir-769",
          "Mir-9851",
          "Mir-1908",
          "Mir-1307",
          "Mir-3200",
          "Mir-766"
         ],
         "yaxis": "y",
         "z": [
          [
           0,
           0,
           0,
           0,
           0,
           0,
           0,
           0,
           0,
           0,
           0,
           0,
           0,
           0,
           0,
           1,
           0,
           0,
           0,
           0,
           0,
           0,
           0,
           0,
           0,
           0,
           1,
           0,
           0,
           0,
           0,
           0,
           0,
           1,
           0,
           0,
           0,
           0,
           0,
           0,
           0,
           0,
           0,
           0,
           0
          ],
          [
           0,
           0,
           0,
           0,
           0,
           0,
           0,
           0,
           0,
           0,
           0,
           0,
           0,
           0,
           0,
           0,
           0,
           0,
           0,
           0,
           0,
           0,
           0,
           0,
           0,
           0,
           0,
           0,
           0,
           0,
           0,
           0,
           0,
           0,
           0,
           0,
           0,
           0,
           0,
           0,
           0,
           0,
           0,
           0,
           0
          ],
          [
           0,
           0,
           0,
           0,
           0,
           0,
           0,
           0,
           0,
           0,
           0,
           0,
           1,
           0,
           0,
           0,
           0,
           0,
           0,
           0,
           0,
           0,
           0,
           0,
           0,
           0,
           0,
           0,
           0,
           0,
           0,
           0,
           0,
           1,
           0,
           0,
           0,
           0,
           0,
           0,
           0,
           0,
           0,
           0,
           0
          ],
          [
           0,
           0,
           0,
           0,
           0,
           1,
           1,
           0,
           1,
           0,
           0,
           1,
           1,
           1,
           1,
           1,
           1,
           1,
           1,
           0,
           0,
           1,
           0,
           1,
           0,
           0,
           0,
           1,
           0,
           0,
           1,
           1,
           0,
           0,
           0,
           0,
           1,
           1,
           0,
           1,
           0,
           0,
           0,
           0,
           1
          ],
          [
           1,
           1,
           1,
           1,
           1,
           1,
           1,
           1,
           1,
           1,
           1,
           1,
           1,
           1,
           1,
           1,
           1,
           1,
           1,
           1,
           1,
           1,
           1,
           1,
           1,
           1,
           1,
           1,
           1,
           1,
           1,
           1,
           1,
           0,
           1,
           1,
           1,
           1,
           1,
           1,
           1,
           1,
           1,
           1,
           1
          ],
          [
           1,
           1,
           1,
           1,
           1,
           1,
           1,
           1,
           1,
           1,
           1,
           1,
           1,
           1,
           1,
           1,
           1,
           1,
           1,
           1,
           1,
           1,
           1,
           1,
           1,
           1,
           1,
           1,
           1,
           1,
           1,
           1,
           1,
           1,
           1,
           1,
           1,
           1,
           1,
           1,
           1,
           1,
           1,
           1,
           1
          ],
          [
           0,
           0,
           0,
           0,
           0,
           0,
           0,
           0,
           0,
           0,
           0,
           0,
           0,
           0,
           0,
           1,
           0,
           0,
           0,
           0,
           0,
           1,
           0,
           1,
           0,
           0,
           1,
           0,
           0,
           0,
           0,
           0,
           1,
           0,
           0,
           1,
           0,
           0,
           0,
           0,
           1,
           1,
           0,
           0,
           0
          ],
          [
           1,
           1,
           1,
           1,
           1,
           1,
           1,
           1,
           1,
           1,
           1,
           1,
           1,
           1,
           1,
           1,
           1,
           1,
           1,
           1,
           1,
           1,
           1,
           1,
           1,
           1,
           1,
           1,
           1,
           1,
           1,
           1,
           1,
           1,
           1,
           1,
           1,
           1,
           1,
           1,
           1,
           1,
           1,
           1,
           1
          ],
          [
           1,
           1,
           0,
           1,
           1,
           1,
           1,
           1,
           1,
           1,
           1,
           1,
           1,
           1,
           1,
           1,
           1,
           1,
           1,
           1,
           1,
           1,
           1,
           1,
           1,
           1,
           1,
           1,
           1,
           1,
           0,
           1,
           1,
           1,
           1,
           1,
           1,
           1,
           1,
           1,
           1,
           1,
           1,
           1,
           1
          ],
          [
           0,
           0,
           0,
           0,
           0,
           0,
           0,
           0,
           0,
           0,
           0,
           0,
           0,
           0,
           0,
           0,
           0,
           0,
           0,
           0,
           0,
           0,
           0,
           0,
           0,
           0,
           0,
           0,
           0,
           0,
           0,
           0,
           0,
           0,
           0,
           0,
           0,
           0,
           0,
           0,
           0,
           0,
           0,
           0,
           0
          ],
          [
           1,
           0,
           0,
           0,
           1,
           0,
           0,
           0,
           0,
           1,
           1,
           1,
           0,
           0,
           1,
           0,
           1,
           1,
           1,
           1,
           0,
           1,
           1,
           0,
           0,
           1,
           0,
           0,
           0,
           0,
           0,
           1,
           0,
           0,
           0,
           0,
           0,
           0,
           0,
           0,
           0,
           0,
           0,
           0,
           1
          ],
          [
           1,
           1,
           1,
           1,
           1,
           1,
           1,
           1,
           1,
           1,
           1,
           1,
           1,
           1,
           1,
           1,
           1,
           1,
           1,
           1,
           1,
           1,
           1,
           1,
           1,
           1,
           1,
           1,
           1,
           1,
           1,
           1,
           1,
           1,
           1,
           1,
           1,
           1,
           1,
           1,
           1,
           1,
           1,
           1,
           1
          ],
          [
           0,
           0,
           0,
           0,
           0,
           1,
           0,
           0,
           0,
           0,
           0,
           1,
           1,
           1,
           1,
           1,
           1,
           1,
           1,
           0,
           0,
           0,
           0,
           0,
           0,
           0,
           0,
           0,
           0,
           0,
           0,
           1,
           0,
           0,
           0,
           0,
           1,
           1,
           0,
           0,
           0,
           0,
           0,
           0,
           1
          ],
          [
           0,
           0,
           0,
           0,
           1,
           0,
           0,
           0,
           0,
           1,
           1,
           1,
           0,
           0,
           1,
           0,
           1,
           1,
           0,
           1,
           0,
           0,
           1,
           0,
           0,
           1,
           0,
           0,
           0,
           0,
           0,
           0,
           0,
           0,
           0,
           0,
           0,
           0,
           0,
           0,
           1,
           0,
           0,
           0,
           1
          ]
         ]
        }
       ],
       "layout": {
        "coloraxis": {
         "colorscale": [
          [
           0,
           "#0d0887"
          ],
          [
           0.1111111111111111,
           "#46039f"
          ],
          [
           0.2222222222222222,
           "#7201a8"
          ],
          [
           0.3333333333333333,
           "#9c179e"
          ],
          [
           0.4444444444444444,
           "#bd3786"
          ],
          [
           0.5555555555555556,
           "#d8576b"
          ],
          [
           0.6666666666666666,
           "#ed7953"
          ],
          [
           0.7777777777777778,
           "#fb9f3a"
          ],
          [
           0.8888888888888888,
           "#fdca26"
          ],
          [
           1,
           "#f0f921"
          ]
         ]
        },
        "template": {
         "data": {
          "bar": [
           {
            "error_x": {
             "color": "#2a3f5f"
            },
            "error_y": {
             "color": "#2a3f5f"
            },
            "marker": {
             "line": {
              "color": "#E5ECF6",
              "width": 0.5
             },
             "pattern": {
              "fillmode": "overlay",
              "size": 10,
              "solidity": 0.2
             }
            },
            "type": "bar"
           }
          ],
          "barpolar": [
           {
            "marker": {
             "line": {
              "color": "#E5ECF6",
              "width": 0.5
             },
             "pattern": {
              "fillmode": "overlay",
              "size": 10,
              "solidity": 0.2
             }
            },
            "type": "barpolar"
           }
          ],
          "carpet": [
           {
            "aaxis": {
             "endlinecolor": "#2a3f5f",
             "gridcolor": "white",
             "linecolor": "white",
             "minorgridcolor": "white",
             "startlinecolor": "#2a3f5f"
            },
            "baxis": {
             "endlinecolor": "#2a3f5f",
             "gridcolor": "white",
             "linecolor": "white",
             "minorgridcolor": "white",
             "startlinecolor": "#2a3f5f"
            },
            "type": "carpet"
           }
          ],
          "choropleth": [
           {
            "colorbar": {
             "outlinewidth": 0,
             "ticks": ""
            },
            "type": "choropleth"
           }
          ],
          "contour": [
           {
            "colorbar": {
             "outlinewidth": 0,
             "ticks": ""
            },
            "colorscale": [
             [
              0,
              "#0d0887"
             ],
             [
              0.1111111111111111,
              "#46039f"
             ],
             [
              0.2222222222222222,
              "#7201a8"
             ],
             [
              0.3333333333333333,
              "#9c179e"
             ],
             [
              0.4444444444444444,
              "#bd3786"
             ],
             [
              0.5555555555555556,
              "#d8576b"
             ],
             [
              0.6666666666666666,
              "#ed7953"
             ],
             [
              0.7777777777777778,
              "#fb9f3a"
             ],
             [
              0.8888888888888888,
              "#fdca26"
             ],
             [
              1,
              "#f0f921"
             ]
            ],
            "type": "contour"
           }
          ],
          "contourcarpet": [
           {
            "colorbar": {
             "outlinewidth": 0,
             "ticks": ""
            },
            "type": "contourcarpet"
           }
          ],
          "heatmap": [
           {
            "colorbar": {
             "outlinewidth": 0,
             "ticks": ""
            },
            "colorscale": [
             [
              0,
              "#0d0887"
             ],
             [
              0.1111111111111111,
              "#46039f"
             ],
             [
              0.2222222222222222,
              "#7201a8"
             ],
             [
              0.3333333333333333,
              "#9c179e"
             ],
             [
              0.4444444444444444,
              "#bd3786"
             ],
             [
              0.5555555555555556,
              "#d8576b"
             ],
             [
              0.6666666666666666,
              "#ed7953"
             ],
             [
              0.7777777777777778,
              "#fb9f3a"
             ],
             [
              0.8888888888888888,
              "#fdca26"
             ],
             [
              1,
              "#f0f921"
             ]
            ],
            "type": "heatmap"
           }
          ],
          "heatmapgl": [
           {
            "colorbar": {
             "outlinewidth": 0,
             "ticks": ""
            },
            "colorscale": [
             [
              0,
              "#0d0887"
             ],
             [
              0.1111111111111111,
              "#46039f"
             ],
             [
              0.2222222222222222,
              "#7201a8"
             ],
             [
              0.3333333333333333,
              "#9c179e"
             ],
             [
              0.4444444444444444,
              "#bd3786"
             ],
             [
              0.5555555555555556,
              "#d8576b"
             ],
             [
              0.6666666666666666,
              "#ed7953"
             ],
             [
              0.7777777777777778,
              "#fb9f3a"
             ],
             [
              0.8888888888888888,
              "#fdca26"
             ],
             [
              1,
              "#f0f921"
             ]
            ],
            "type": "heatmapgl"
           }
          ],
          "histogram": [
           {
            "marker": {
             "pattern": {
              "fillmode": "overlay",
              "size": 10,
              "solidity": 0.2
             }
            },
            "type": "histogram"
           }
          ],
          "histogram2d": [
           {
            "colorbar": {
             "outlinewidth": 0,
             "ticks": ""
            },
            "colorscale": [
             [
              0,
              "#0d0887"
             ],
             [
              0.1111111111111111,
              "#46039f"
             ],
             [
              0.2222222222222222,
              "#7201a8"
             ],
             [
              0.3333333333333333,
              "#9c179e"
             ],
             [
              0.4444444444444444,
              "#bd3786"
             ],
             [
              0.5555555555555556,
              "#d8576b"
             ],
             [
              0.6666666666666666,
              "#ed7953"
             ],
             [
              0.7777777777777778,
              "#fb9f3a"
             ],
             [
              0.8888888888888888,
              "#fdca26"
             ],
             [
              1,
              "#f0f921"
             ]
            ],
            "type": "histogram2d"
           }
          ],
          "histogram2dcontour": [
           {
            "colorbar": {
             "outlinewidth": 0,
             "ticks": ""
            },
            "colorscale": [
             [
              0,
              "#0d0887"
             ],
             [
              0.1111111111111111,
              "#46039f"
             ],
             [
              0.2222222222222222,
              "#7201a8"
             ],
             [
              0.3333333333333333,
              "#9c179e"
             ],
             [
              0.4444444444444444,
              "#bd3786"
             ],
             [
              0.5555555555555556,
              "#d8576b"
             ],
             [
              0.6666666666666666,
              "#ed7953"
             ],
             [
              0.7777777777777778,
              "#fb9f3a"
             ],
             [
              0.8888888888888888,
              "#fdca26"
             ],
             [
              1,
              "#f0f921"
             ]
            ],
            "type": "histogram2dcontour"
           }
          ],
          "mesh3d": [
           {
            "colorbar": {
             "outlinewidth": 0,
             "ticks": ""
            },
            "type": "mesh3d"
           }
          ],
          "parcoords": [
           {
            "line": {
             "colorbar": {
              "outlinewidth": 0,
              "ticks": ""
             }
            },
            "type": "parcoords"
           }
          ],
          "pie": [
           {
            "automargin": true,
            "type": "pie"
           }
          ],
          "scatter": [
           {
            "fillpattern": {
             "fillmode": "overlay",
             "size": 10,
             "solidity": 0.2
            },
            "type": "scatter"
           }
          ],
          "scatter3d": [
           {
            "line": {
             "colorbar": {
              "outlinewidth": 0,
              "ticks": ""
             }
            },
            "marker": {
             "colorbar": {
              "outlinewidth": 0,
              "ticks": ""
             }
            },
            "type": "scatter3d"
           }
          ],
          "scattercarpet": [
           {
            "marker": {
             "colorbar": {
              "outlinewidth": 0,
              "ticks": ""
             }
            },
            "type": "scattercarpet"
           }
          ],
          "scattergeo": [
           {
            "marker": {
             "colorbar": {
              "outlinewidth": 0,
              "ticks": ""
             }
            },
            "type": "scattergeo"
           }
          ],
          "scattergl": [
           {
            "marker": {
             "colorbar": {
              "outlinewidth": 0,
              "ticks": ""
             }
            },
            "type": "scattergl"
           }
          ],
          "scattermapbox": [
           {
            "marker": {
             "colorbar": {
              "outlinewidth": 0,
              "ticks": ""
             }
            },
            "type": "scattermapbox"
           }
          ],
          "scatterpolar": [
           {
            "marker": {
             "colorbar": {
              "outlinewidth": 0,
              "ticks": ""
             }
            },
            "type": "scatterpolar"
           }
          ],
          "scatterpolargl": [
           {
            "marker": {
             "colorbar": {
              "outlinewidth": 0,
              "ticks": ""
             }
            },
            "type": "scatterpolargl"
           }
          ],
          "scatterternary": [
           {
            "marker": {
             "colorbar": {
              "outlinewidth": 0,
              "ticks": ""
             }
            },
            "type": "scatterternary"
           }
          ],
          "surface": [
           {
            "colorbar": {
             "outlinewidth": 0,
             "ticks": ""
            },
            "colorscale": [
             [
              0,
              "#0d0887"
             ],
             [
              0.1111111111111111,
              "#46039f"
             ],
             [
              0.2222222222222222,
              "#7201a8"
             ],
             [
              0.3333333333333333,
              "#9c179e"
             ],
             [
              0.4444444444444444,
              "#bd3786"
             ],
             [
              0.5555555555555556,
              "#d8576b"
             ],
             [
              0.6666666666666666,
              "#ed7953"
             ],
             [
              0.7777777777777778,
              "#fb9f3a"
             ],
             [
              0.8888888888888888,
              "#fdca26"
             ],
             [
              1,
              "#f0f921"
             ]
            ],
            "type": "surface"
           }
          ],
          "table": [
           {
            "cells": {
             "fill": {
              "color": "#EBF0F8"
             },
             "line": {
              "color": "white"
             }
            },
            "header": {
             "fill": {
              "color": "#C8D4E3"
             },
             "line": {
              "color": "white"
             }
            },
            "type": "table"
           }
          ]
         },
         "layout": {
          "annotationdefaults": {
           "arrowcolor": "#2a3f5f",
           "arrowhead": 0,
           "arrowwidth": 1
          },
          "autotypenumbers": "strict",
          "coloraxis": {
           "colorbar": {
            "outlinewidth": 0,
            "ticks": ""
           }
          },
          "colorscale": {
           "diverging": [
            [
             0,
             "#8e0152"
            ],
            [
             0.1,
             "#c51b7d"
            ],
            [
             0.2,
             "#de77ae"
            ],
            [
             0.3,
             "#f1b6da"
            ],
            [
             0.4,
             "#fde0ef"
            ],
            [
             0.5,
             "#f7f7f7"
            ],
            [
             0.6,
             "#e6f5d0"
            ],
            [
             0.7,
             "#b8e186"
            ],
            [
             0.8,
             "#7fbc41"
            ],
            [
             0.9,
             "#4d9221"
            ],
            [
             1,
             "#276419"
            ]
           ],
           "sequential": [
            [
             0,
             "#0d0887"
            ],
            [
             0.1111111111111111,
             "#46039f"
            ],
            [
             0.2222222222222222,
             "#7201a8"
            ],
            [
             0.3333333333333333,
             "#9c179e"
            ],
            [
             0.4444444444444444,
             "#bd3786"
            ],
            [
             0.5555555555555556,
             "#d8576b"
            ],
            [
             0.6666666666666666,
             "#ed7953"
            ],
            [
             0.7777777777777778,
             "#fb9f3a"
            ],
            [
             0.8888888888888888,
             "#fdca26"
            ],
            [
             1,
             "#f0f921"
            ]
           ],
           "sequentialminus": [
            [
             0,
             "#0d0887"
            ],
            [
             0.1111111111111111,
             "#46039f"
            ],
            [
             0.2222222222222222,
             "#7201a8"
            ],
            [
             0.3333333333333333,
             "#9c179e"
            ],
            [
             0.4444444444444444,
             "#bd3786"
            ],
            [
             0.5555555555555556,
             "#d8576b"
            ],
            [
             0.6666666666666666,
             "#ed7953"
            ],
            [
             0.7777777777777778,
             "#fb9f3a"
            ],
            [
             0.8888888888888888,
             "#fdca26"
            ],
            [
             1,
             "#f0f921"
            ]
           ]
          },
          "colorway": [
           "#636efa",
           "#EF553B",
           "#00cc96",
           "#ab63fa",
           "#FFA15A",
           "#19d3f3",
           "#FF6692",
           "#B6E880",
           "#FF97FF",
           "#FECB52"
          ],
          "font": {
           "color": "#2a3f5f"
          },
          "geo": {
           "bgcolor": "white",
           "lakecolor": "white",
           "landcolor": "#E5ECF6",
           "showlakes": true,
           "showland": true,
           "subunitcolor": "white"
          },
          "hoverlabel": {
           "align": "left"
          },
          "hovermode": "closest",
          "mapbox": {
           "style": "light"
          },
          "paper_bgcolor": "white",
          "plot_bgcolor": "#E5ECF6",
          "polar": {
           "angularaxis": {
            "gridcolor": "white",
            "linecolor": "white",
            "ticks": ""
           },
           "bgcolor": "#E5ECF6",
           "radialaxis": {
            "gridcolor": "white",
            "linecolor": "white",
            "ticks": ""
           }
          },
          "scene": {
           "xaxis": {
            "backgroundcolor": "#E5ECF6",
            "gridcolor": "white",
            "gridwidth": 2,
            "linecolor": "white",
            "showbackground": true,
            "ticks": "",
            "zerolinecolor": "white"
           },
           "yaxis": {
            "backgroundcolor": "#E5ECF6",
            "gridcolor": "white",
            "gridwidth": 2,
            "linecolor": "white",
            "showbackground": true,
            "ticks": "",
            "zerolinecolor": "white"
           },
           "zaxis": {
            "backgroundcolor": "#E5ECF6",
            "gridcolor": "white",
            "gridwidth": 2,
            "linecolor": "white",
            "showbackground": true,
            "ticks": "",
            "zerolinecolor": "white"
           }
          },
          "shapedefaults": {
           "line": {
            "color": "#2a3f5f"
           }
          },
          "ternary": {
           "aaxis": {
            "gridcolor": "white",
            "linecolor": "white",
            "ticks": ""
           },
           "baxis": {
            "gridcolor": "white",
            "linecolor": "white",
            "ticks": ""
           },
           "bgcolor": "#E5ECF6",
           "caxis": {
            "gridcolor": "white",
            "linecolor": "white",
            "ticks": ""
           }
          },
          "title": {
           "x": 0.05
          },
          "xaxis": {
           "automargin": true,
           "gridcolor": "white",
           "linecolor": "white",
           "ticks": "",
           "title": {
            "standoff": 15
           },
           "zerolinecolor": "white",
           "zerolinewidth": 2
          },
          "yaxis": {
           "automargin": true,
           "gridcolor": "white",
           "linecolor": "white",
           "ticks": "",
           "title": {
            "standoff": 15
           },
           "zerolinecolor": "white",
           "zerolinewidth": 2
          }
         }
        },
        "title": {
         "text": "Binary representation (threshold=15)"
        },
        "xaxis": {
         "anchor": "y",
         "constrain": "domain",
         "domain": [
          0,
          1
         ],
         "scaleanchor": "y"
        },
        "yaxis": {
         "anchor": "x",
         "autorange": "reversed",
         "constrain": "domain",
         "domain": [
          0,
          1
         ],
         "title": {
          "text": "mirfam"
         }
        }
       }
      }
     },
     "metadata": {},
     "output_type": "display_data"
    },
    {
     "name": "stdout",
     "output_type": "stream",
     "text": [
      "Test whether the two distributions have different shapes\n",
      "Kolmogorov-Smirnov test p-value: 0.06069022944978642\n",
      "\n",
      "Test whether the two distributions have different medians\n",
      "Mann-Whitney U Test p-value: 0.6685068145012845\n",
      "\n"
     ]
    },
    {
     "data": {
      "image/png": "[encoded data removed]",
      "text/plain": [
       "<Figure size 600x400 with 1 Axes>"
      ]
     },
     "metadata": {},
     "output_type": "display_data"
    }
   ],
   "source": [
    "mirna_tissue_coexpression(expression_path, binary, binary_read_cutoff, metric)"
   ]
  }
 ],
 "metadata": {
  "kernelspec": {
   "display_name": "rodent_loss",
   "language": "python",
   "name": "python3"
  },
  "language_info": {
   "codemirror_mode": {
    "name": "ipython",
    "version": 3
   },
   "file_extension": ".py",
   "mimetype": "text/x-python",
   "name": "python",
   "nbconvert_exporter": "python",
   "pygments_lexer": "ipython3",
   "version": "3.12.5"
  }
 },
 "nbformat": 4,
 "nbformat_minor": 2
}
