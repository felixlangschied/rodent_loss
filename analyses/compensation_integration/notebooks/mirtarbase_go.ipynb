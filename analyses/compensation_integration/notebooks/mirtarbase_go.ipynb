{
 "cells": [
  {
   "cell_type": "code",
   "execution_count": 2,
   "id": "6aa5714e",
   "metadata": {},
   "outputs": [],
   "source": [
    "import json\n",
    "import pandas as pd\n",
    "from pathlib import Path\n",
    "\n",
    "\n",
    "## variables\n",
    "min_category_size = 5\n",
    "min_fdr = 0.001\n",
    "\n",
    "PROJECTDIR = Path('.').resolve().parents[2]\n",
    "gopath = f'{PROJECTDIR}/analyses/compensation_integration/data/go_enrichment/STRING_adjBackground_GO_BP_mirtarbase_strongMTIonly_True.txt'\n",
    "datadir = f'{PROJECTDIR}/analyses/compensation_integration/data/go_enrichment'\n",
    "\n",
    "def filter_GO(path, min_category_size, min_fdr):\n",
    "\n",
    "    lost_human_targets = pd.read_csv(path, sep='\\t', skiprows=11)\n",
    "    \n",
    "    # filter category size\n",
    "    lost_human_targets = lost_human_targets[lost_human_targets['mirtarbase_human_background.txt - REFLIST (14675)'] >= min_category_size]\n",
    "    \n",
    "    # filter FDR\n",
    "    lost_human_targets = lost_human_targets[lost_human_targets['upload_1 (FDR)'] <= min_fdr]\n",
    "    \n",
    "    # only more than expected\n",
    "    lost_human_targets = lost_human_targets[lost_human_targets['upload_1 (over/under)'] == '+']\n",
    "    lost_human_targets['go_term'] = lost_human_targets['GO biological process complete'].apply(lambda x: x.split('(')[1].replace(')', ''))\n",
    "    return lost_human_targets\n",
    "\n",
    "\n",
    "def save_filtered_GO(df, outpath):\n",
    "    odf = df.filter(['go_term', 'upload_1 (FDR)'])\n",
    "    odf.to_csv(outpath, sep='\\t', index=False, header=False)\n",
    "\n",
    "\n",
    "lost_human_targets = filter_GO(gopath, min_category_size=min_category_size, min_fdr=min_fdr)\n",
    "save_filtered_GO(lost_human_targets, f'{datadir}/mirtarbase_targets_filtered.txt')\n",
    "\n",
    "no_threshold = filter_GO(gopath, min_category_size=0, min_fdr=10)\n",
    "save_filtered_GO(no_threshold, f'{datadir}/mirtarbase_targets_nothreshold.txt')\n"
   ]
  },
  {
   "cell_type": "markdown",
   "id": "05f79760",
   "metadata": {},
   "source": [
    "## Run script at"
   ]
  },
  {
   "cell_type": "code",
   "execution_count": null,
   "id": "4ec73c1f",
   "metadata": {},
   "outputs": [],
   "source": [
    "go_figure = '/home/felixl/project/rodent_loss/analyses/compensation_integration/results/go_enrichment/command.txt'"
   ]
  },
  {
   "cell_type": "markdown",
   "id": "39a3ebaa",
   "metadata": {},
   "source": [
    "## Link results to Revision"
   ]
  },
  {
   "cell_type": "code",
   "execution_count": 3,
   "id": "d9b058e4",
   "metadata": {},
   "outputs": [
    {
     "data": {
      "text/plain": [
       "'/home/felixl/project/rodent_loss/publication/revision/nofilter_go_figure.png'"
      ]
     },
     "execution_count": 3,
     "metadata": {},
     "output_type": "execute_result"
    }
   ],
   "source": [
    "import shutil\n",
    "\n",
    "revisiondir = f'{PROJECTDIR}/publication/revision'\n",
    "\n",
    "\n",
    "# filtered \n",
    "src = f'{PROJECTDIR}/analyses/compensation_integration/results/go_enrichment/filtered_go_figure/biological_process_filtered_go_figure.png'\n",
    "tar = f'{revisiondir}/filtered_go_figure.png'\n",
    "shutil.copy(src, tar)\n",
    "\n",
    "# no filter\n",
    "src = f'{PROJECTDIR}/analyses/compensation_integration/results/go_enrichment/nofilter_go_figure/biological_process_nofilter_go_figure.png'\n",
    "tar = f'{revisiondir}/nofilter_go_figure.png'\n",
    "shutil.copy(src, tar)\n"
   ]
  },
  {
   "cell_type": "code",
   "execution_count": null,
   "id": "9461fc02",
   "metadata": {},
   "outputs": [],
   "source": []
  }
 ],
 "metadata": {
  "kernelspec": {
   "display_name": "rodent_loss",
   "language": "python",
   "name": "python3"
  },
  "language_info": {
   "codemirror_mode": {
    "name": "ipython",
    "version": 3
   },
   "file_extension": ".py",
   "mimetype": "text/x-python",
   "name": "python",
   "nbconvert_exporter": "python",
   "pygments_lexer": "ipython3",
   "version": "3.12.5"
  }
 },
 "nbformat": 4,
 "nbformat_minor": 5
}
