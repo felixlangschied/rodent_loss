{
 "cells": [
  {
   "cell_type": "markdown",
   "metadata": {},
   "source": [
    "\n",
    "## Imports"
   ]
  },
  {
   "cell_type": "code",
   "execution_count": 6,
   "metadata": {},
   "outputs": [],
   "source": [
    "from pathlib import Path\n",
    "import pandas as pd\n",
    "import seaborn as sns\n",
    "import matplotlib.pyplot as plt\n",
    "from collections import Counter"
   ]
  },
  {
   "cell_type": "code",
   "execution_count": 2,
   "metadata": {},
   "outputs": [],
   "source": [
    "PROJECTDIR = Path('.').resolve().parents[2]\n",
    "targetpath = f'{PROJECTDIR}/publication/supplement_tables/targets_lost_miRNAs_miRTarBase9.tsv'"
   ]
  },
  {
   "cell_type": "code",
   "execution_count": 28,
   "metadata": {},
   "outputs": [
    {
     "data": {
      "text/html": [
       "<div>\n",
       "<style scoped>\n",
       "    .dataframe tbody tr th:only-of-type {\n",
       "        vertical-align: middle;\n",
       "    }\n",
       "\n",
       "    .dataframe tbody tr th {\n",
       "        vertical-align: top;\n",
       "    }\n",
       "\n",
       "    .dataframe thead th {\n",
       "        text-align: right;\n",
       "    }\n",
       "</style>\n",
       "<table border=\"1\" class=\"dataframe\">\n",
       "  <thead>\n",
       "    <tr style=\"text-align: right;\">\n",
       "      <th></th>\n",
       "      <th>miRTarBase ID</th>\n",
       "      <th>miRNA</th>\n",
       "      <th>Species (miRNA)</th>\n",
       "      <th>Target Gene</th>\n",
       "      <th>Target Gene (Entrez ID)</th>\n",
       "      <th>Species (Target Gene)</th>\n",
       "      <th>Experiments</th>\n",
       "      <th>Support Type</th>\n",
       "      <th>References (PMID)</th>\n",
       "      <th>mirbase_fam</th>\n",
       "      <th>mirgene_fam</th>\n",
       "    </tr>\n",
       "  </thead>\n",
       "  <tbody>\n",
       "    <tr>\n",
       "      <th>0</th>\n",
       "      <td>MIRT000473</td>\n",
       "      <td>hsa-miR-1296-5p</td>\n",
       "      <td>Homo sapiens</td>\n",
       "      <td>MCM2</td>\n",
       "      <td>4171</td>\n",
       "      <td>Homo sapiens</td>\n",
       "      <td>qRT-PCR//Western blot</td>\n",
       "      <td>Functional MTI</td>\n",
       "      <td>20332239</td>\n",
       "      <td>mir-1296</td>\n",
       "      <td>Mir-1296</td>\n",
       "    </tr>\n",
       "    <tr>\n",
       "      <th>1</th>\n",
       "      <td>MIRT001979</td>\n",
       "      <td>hsa-miR-510-5p</td>\n",
       "      <td>Homo sapiens</td>\n",
       "      <td>HTR3E</td>\n",
       "      <td>285242</td>\n",
       "      <td>Homo sapiens</td>\n",
       "      <td>Luciferase reporter assay</td>\n",
       "      <td>Functional MTI</td>\n",
       "      <td>18614545</td>\n",
       "      <td>mir-510</td>\n",
       "      <td>Mir-506</td>\n",
       "    </tr>\n",
       "    <tr>\n",
       "      <th>2</th>\n",
       "      <td>MIRT003549</td>\n",
       "      <td>hsa-miR-489-3p</td>\n",
       "      <td>Homo sapiens</td>\n",
       "      <td>PTPN11</td>\n",
       "      <td>5781</td>\n",
       "      <td>Homo sapiens</td>\n",
       "      <td>Luciferase reporter assay//Western blot</td>\n",
       "      <td>Functional MTI</td>\n",
       "      <td>20700123</td>\n",
       "      <td>mir-489</td>\n",
       "      <td>Mir-489</td>\n",
       "    </tr>\n",
       "    <tr>\n",
       "      <th>3</th>\n",
       "      <td>MIRT003549</td>\n",
       "      <td>hsa-miR-489-3p</td>\n",
       "      <td>Homo sapiens</td>\n",
       "      <td>PTPN11</td>\n",
       "      <td>5781</td>\n",
       "      <td>Homo sapiens</td>\n",
       "      <td>Luciferase reporter assay</td>\n",
       "      <td>Functional MTI</td>\n",
       "      <td>26918448</td>\n",
       "      <td>mir-489</td>\n",
       "      <td>Mir-489</td>\n",
       "    </tr>\n",
       "    <tr>\n",
       "      <th>4</th>\n",
       "      <td>MIRT004198</td>\n",
       "      <td>hsa-miR-197-3p</td>\n",
       "      <td>Homo sapiens</td>\n",
       "      <td>FOXO3</td>\n",
       "      <td>2309</td>\n",
       "      <td>Homo sapiens</td>\n",
       "      <td>Microarray//qRT-PCR//Western blot</td>\n",
       "      <td>Functional MTI</td>\n",
       "      <td>26540468</td>\n",
       "      <td>mir-197</td>\n",
       "      <td>Mir-197</td>\n",
       "    </tr>\n",
       "    <tr>\n",
       "      <th>...</th>\n",
       "      <td>...</td>\n",
       "      <td>...</td>\n",
       "      <td>...</td>\n",
       "      <td>...</td>\n",
       "      <td>...</td>\n",
       "      <td>...</td>\n",
       "      <td>...</td>\n",
       "      <td>...</td>\n",
       "      <td>...</td>\n",
       "      <td>...</td>\n",
       "      <td>...</td>\n",
       "    </tr>\n",
       "    <tr>\n",
       "      <th>80</th>\n",
       "      <td>MIRT734670</td>\n",
       "      <td>hsa-miR-885-5p</td>\n",
       "      <td>Homo sapiens</td>\n",
       "      <td>CTNNB1</td>\n",
       "      <td>1499</td>\n",
       "      <td>Homo sapiens</td>\n",
       "      <td>Immunohistochemistry//In situ hybridization//L...</td>\n",
       "      <td>Functional MTI</td>\n",
       "      <td>27738331</td>\n",
       "      <td>mir-885</td>\n",
       "      <td>Mir-885</td>\n",
       "    </tr>\n",
       "    <tr>\n",
       "      <th>81</th>\n",
       "      <td>MIRT734716</td>\n",
       "      <td>hsa-miR-892a</td>\n",
       "      <td>Homo sapiens</td>\n",
       "      <td>CD226</td>\n",
       "      <td>10666</td>\n",
       "      <td>Homo sapiens</td>\n",
       "      <td>Luciferase reporter assay//qRT-PCR//Western blot</td>\n",
       "      <td>Functional MTI</td>\n",
       "      <td>27883251</td>\n",
       "      <td>mir-892a</td>\n",
       "      <td>Mir-506</td>\n",
       "    </tr>\n",
       "    <tr>\n",
       "      <th>82</th>\n",
       "      <td>MIRT734725</td>\n",
       "      <td>hsa-miR-506-3p</td>\n",
       "      <td>Homo sapiens</td>\n",
       "      <td>PIM3</td>\n",
       "      <td>415116</td>\n",
       "      <td>Homo sapiens</td>\n",
       "      <td>Luciferase reporter assay//qRT-PCR//Western blot</td>\n",
       "      <td>Functional MTI</td>\n",
       "      <td>26238203</td>\n",
       "      <td>mir-506</td>\n",
       "      <td>Mir-506</td>\n",
       "    </tr>\n",
       "    <tr>\n",
       "      <th>83</th>\n",
       "      <td>MIRT734874</td>\n",
       "      <td>hsa-miR-506-3p</td>\n",
       "      <td>Homo sapiens</td>\n",
       "      <td>FLOT1</td>\n",
       "      <td>10211</td>\n",
       "      <td>Homo sapiens</td>\n",
       "      <td>Luciferase reporter assay//qRT-PCR</td>\n",
       "      <td>Functional MTI</td>\n",
       "      <td>25793370</td>\n",
       "      <td>mir-506</td>\n",
       "      <td>Mir-506</td>\n",
       "    </tr>\n",
       "    <tr>\n",
       "      <th>84</th>\n",
       "      <td>MIRT735077</td>\n",
       "      <td>hsa-miR-489-3p</td>\n",
       "      <td>Homo sapiens</td>\n",
       "      <td>MMP7</td>\n",
       "      <td>4316</td>\n",
       "      <td>Homo sapiens</td>\n",
       "      <td>Immunohistochemistry//Luciferase reporter assa...</td>\n",
       "      <td>Functional MTI</td>\n",
       "      <td>28189067</td>\n",
       "      <td>mir-489</td>\n",
       "      <td>Mir-489</td>\n",
       "    </tr>\n",
       "  </tbody>\n",
       "</table>\n",
       "<p>85 rows × 11 columns</p>\n",
       "</div>"
      ],
      "text/plain": [
       "   miRTarBase ID            miRNA Species (miRNA) Target Gene  \\\n",
       "0     MIRT000473  hsa-miR-1296-5p    Homo sapiens        MCM2   \n",
       "1     MIRT001979   hsa-miR-510-5p    Homo sapiens       HTR3E   \n",
       "2     MIRT003549   hsa-miR-489-3p    Homo sapiens      PTPN11   \n",
       "3     MIRT003549   hsa-miR-489-3p    Homo sapiens      PTPN11   \n",
       "4     MIRT004198   hsa-miR-197-3p    Homo sapiens       FOXO3   \n",
       "..           ...              ...             ...         ...   \n",
       "80    MIRT734670   hsa-miR-885-5p    Homo sapiens      CTNNB1   \n",
       "81    MIRT734716     hsa-miR-892a    Homo sapiens       CD226   \n",
       "82    MIRT734725   hsa-miR-506-3p    Homo sapiens        PIM3   \n",
       "83    MIRT734874   hsa-miR-506-3p    Homo sapiens       FLOT1   \n",
       "84    MIRT735077   hsa-miR-489-3p    Homo sapiens        MMP7   \n",
       "\n",
       "    Target Gene (Entrez ID) Species (Target Gene)  \\\n",
       "0                      4171          Homo sapiens   \n",
       "1                    285242          Homo sapiens   \n",
       "2                      5781          Homo sapiens   \n",
       "3                      5781          Homo sapiens   \n",
       "4                      2309          Homo sapiens   \n",
       "..                      ...                   ...   \n",
       "80                     1499          Homo sapiens   \n",
       "81                    10666          Homo sapiens   \n",
       "82                   415116          Homo sapiens   \n",
       "83                    10211          Homo sapiens   \n",
       "84                     4316          Homo sapiens   \n",
       "\n",
       "                                          Experiments    Support Type  \\\n",
       "0                               qRT-PCR//Western blot  Functional MTI   \n",
       "1                           Luciferase reporter assay  Functional MTI   \n",
       "2             Luciferase reporter assay//Western blot  Functional MTI   \n",
       "3                           Luciferase reporter assay  Functional MTI   \n",
       "4                   Microarray//qRT-PCR//Western blot  Functional MTI   \n",
       "..                                                ...             ...   \n",
       "80  Immunohistochemistry//In situ hybridization//L...  Functional MTI   \n",
       "81   Luciferase reporter assay//qRT-PCR//Western blot  Functional MTI   \n",
       "82   Luciferase reporter assay//qRT-PCR//Western blot  Functional MTI   \n",
       "83                 Luciferase reporter assay//qRT-PCR  Functional MTI   \n",
       "84  Immunohistochemistry//Luciferase reporter assa...  Functional MTI   \n",
       "\n",
       "    References (PMID) mirbase_fam mirgene_fam  \n",
       "0            20332239    mir-1296    Mir-1296  \n",
       "1            18614545     mir-510     Mir-506  \n",
       "2            20700123     mir-489     Mir-489  \n",
       "3            26918448     mir-489     Mir-489  \n",
       "4            26540468     mir-197     Mir-197  \n",
       "..                ...         ...         ...  \n",
       "80           27738331     mir-885     Mir-885  \n",
       "81           27883251    mir-892a     Mir-506  \n",
       "82           26238203     mir-506     Mir-506  \n",
       "83           25793370     mir-506     Mir-506  \n",
       "84           28189067     mir-489     Mir-489  \n",
       "\n",
       "[85 rows x 11 columns]"
      ]
     },
     "metadata": {},
     "output_type": "display_data"
    },
    {
     "name": "stdout",
     "output_type": "stream",
     "text": [
      "Counter({'Mir-506': 50, 'Mir-197': 12, 'Mir-489': 8, 'Mir-885': 7, 'Mir-1908': 4, 'Mir-1296': 2, 'Mir-766': 1, 'Mir-769': 1})\n"
     ]
    }
   ],
   "source": [
    "df = pd.read_csv(targetpath, sep='\\t')\n",
    "mirna_count = Counter(df.mirgene_fam)\n",
    "display(df)\n",
    "print(mirna_count)"
   ]
  },
  {
   "cell_type": "code",
   "execution_count": 32,
   "metadata": {},
   "outputs": [
    {
     "data": {
      "image/png": "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",
      "text/plain": [
       "<Figure size 600x400 with 1 Axes>"
      ]
     },
     "metadata": {},
     "output_type": "display_data"
    }
   ],
   "source": [
    "countdf = pd.DataFrame.from_dict(mirna_count, orient='index', columns=['count']).reset_index(names=['mirna'])\n",
    "countdf = countdf.sort_values('count', ascending=False)\n",
    "# display(countdf)\n",
    "\n",
    "sns.set(rc={'figure.figsize':(6,4), 'ytick.left': True, 'xtick.bottom': True}, font_scale = 1.2, style='whitegrid')\n",
    "sns.barplot(data=countdf, x='mirna', y='count')\n",
    "plt.xticks(rotation=45, ha='right')\n",
    "plt.ylabel('# Targets in MirTarBase')\n",
    "plt.title(f'miRNA families with targets = {countdf.index.size}')\n",
    "plt.xlabel('')\n",
    "plt.show()"
   ]
  }
 ],
 "metadata": {
  "kernelspec": {
   "display_name": "rodent_loss",
   "language": "python",
   "name": "python3"
  },
  "language_info": {
   "codemirror_mode": {
    "name": "ipython",
    "version": 3
   },
   "file_extension": ".py",
   "mimetype": "text/x-python",
   "name": "python",
   "nbconvert_exporter": "python",
   "pygments_lexer": "ipython3",
   "version": "3.12.5"
  }
 },
 "nbformat": 4,
 "nbformat_minor": 2
}

{
 "cells": [
  {
   "cell_type": "markdown",
   "metadata": {},
   "source": [
    "## Imports"
   ]
  },
  {
   "cell_type": "code",
   "execution_count": null,
   "metadata": {
    "vscode": {
     "languageId": "plaintext"
    }
   },
   "outputs": [],
   "source": [
    "from Pathlib.Path import Path\n"
   ]
  },
  {
   "cell_type": "markdown",
   "metadata": {
    "vscode": {
     "languageId": "plaintext"
    }
   },
   "source": [
    "## Load data"
   ]
  },
  {
   "cell_type": "code",
   "execution_count": null,
   "metadata": {
    "vscode": {
     "languageId": "plaintext"
    }
   },
   "outputs": [],
   "source": []
  },
  {
   "cell_type": "code",
   "execution_count": null,
   "metadata": {
    "vscode": {
     "languageId": "plaintext"
    }
   },
   "outputs": [],
   "source": []
  },
  {
   "cell_type": "code",
   "execution_count": null,
   "metadata": {
    "vscode": {
     "languageId": "plaintext"
    }
   },
   "outputs": [],
   "source": []
  },
  {
   "cell_type": "code",
   "execution_count": null,
   "metadata": {
    "vscode": {
     "languageId": "plaintext"
    }
   },
   "outputs": [],
   "source": []
  }
 ],
 "metadata": {
  "language_info": {
   "name": "python"
  }
 },
 "nbformat": 4,
 "nbformat_minor": 2
}
