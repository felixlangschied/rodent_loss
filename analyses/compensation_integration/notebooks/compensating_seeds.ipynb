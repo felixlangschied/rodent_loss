{
 "cells": [
  {
   "cell_type": "markdown",
   "metadata": {},
   "source": [
    "## Imports\n",
    "\n",
    "\n"
   ]
  },
  {
   "cell_type": "code",
   "execution_count": 86,
   "metadata": {},
   "outputs": [],
   "source": [
    "import subprocess as sp\n",
    "import glob"
   ]
  },
  {
   "cell_type": "markdown",
   "metadata": {},
   "source": [
    "## Input"
   ]
  },
  {
   "cell_type": "code",
   "execution_count": 87,
   "metadata": {},
   "outputs": [],
   "source": [
    "losspath = '../data/all_rodentlost_mirfams.list'\n",
    "mirpath = '../data/hsa_mirgenedb_2_0.tsv'\n",
    "rodmatdir = '../data/rodent_mature_mirnas'"
   ]
  },
  {
   "cell_type": "markdown",
   "metadata": {},
   "source": [
    "## Read lost miRNA familiy info"
   ]
  },
  {
   "cell_type": "code",
   "execution_count": 92,
   "metadata": {},
   "outputs": [],
   "source": [
    "def make_mirfam(raw):\n",
    "    mirid = raw.split('_')[0]\n",
    "    fam = '-'.join(mirid.split('-')[1:3])\n",
    "    return mirid, fam\n",
    "\n",
    "\n",
    "def read_mir(path):\n",
    "    \"\"\"\n",
    "    returns: {mirfam: {mirid: matseq}, {mirid: matseq}, mirfam: ...}\n",
    "    \"\"\"\n",
    "    resdict = {}\n",
    "    with open(path, 'r') as fh:\n",
    "        for line in fh:\n",
    "            rawmir, chrom, start, end, strand, pre, mature = line.strip().split()\n",
    "            mirid, mirfam = make_mirfam(rawmir)\n",
    "            if mirfam == 'Mir-541':\n",
    "                continue\n",
    "            \n",
    "            if not mirfam in resdict:\n",
    "                resdict[mirfam] = {}\n",
    "            resdict[mirfam][mirid] = mature.replace('T', 'U')\n",
    "    return resdict\n",
    "\n",
    "\n",
    "def filter_fam2seq(fam2seq, path):\n",
    "    with open(losspath, 'r') as fh:\n",
    "        lostmirs = [line for line in fh.read().split('\\n') if line]\n",
    "    lostfam2seq = {key: value for key, value in fam2seq.items() if key in lostmirs}\n",
    "    return lostfam2seq\n",
    "\n",
    "fam2seq = read_mir(mirpath)  \n",
    "lostfam2seq = filter_fam2seq(fam2seq, losspath)\n",
    "# {mirfam: {mirid: matseq}, {mirid: matseq}, mirfam: ...}"
   ]
  },
  {
   "cell_type": "markdown",
   "metadata": {},
   "source": [
    "## Search for miRNA families that are inferred to be lost by ncOrtho but that are present in MirGeneDB"
   ]
  },
  {
   "cell_type": "code",
   "execution_count": 93,
   "metadata": {},
   "outputs": [
    {
     "name": "stdout",
     "output_type": "stream",
     "text": [
      "['Mir-489', 'Mir-506']\n"
     ]
    }
   ],
   "source": [
    "def FNs_from_fam(path, seqdict):\n",
    "    fns = set()\n",
    "    with open(path) as fh:\n",
    "        for line in fh:\n",
    "            if line.startswith('>'):\n",
    "                _, dbfam = make_mirfam(line)\n",
    "            if dbfam in seqdict:\n",
    "                fns.add(dbfam)\n",
    "    return list(fns)\n",
    "\n",
    "\n",
    "for file in glob.glob(f'{rodmatdir}/*.fas'):\n",
    "    ncOrtho_MirGeneDB_mismatch = FNs_from_fam(file, lostfam2seq)\n",
    "    \n",
    "print(ncOrtho_MirGeneDB_mismatch)"
   ]
  },
  {
   "cell_type": "markdown",
   "metadata": {},
   "source": [
    "## Search for miRNAs in MirGeneDB with the same seed sequence "
   ]
  },
  {
   "cell_type": "code",
   "execution_count": 94,
   "metadata": {},
   "outputs": [
    {
     "name": "stdout",
     "output_type": "stream",
     "text": [
      "('Mmu-Mir-452-v1_5p', 'Hsa-Mir-506-P13', 'ACUGUUU')\n",
      "('Mmu-Mir-506-P25_3p', 'Hsa-Mir-506-P11', 'ACUGUGU')\n",
      "('Mmu-Mir-124-P2-v2_3p', 'Hsa-Mir-506-P1', 'UAAGGCA')\n",
      "('Mmu-Mir-124-P3-v2_3p', 'Hsa-Mir-506-P1', 'UAAGGCA')\n",
      "('Mmu-Mir-124-P1-v2_3p', 'Hsa-Mir-506-P1', 'UAAGGCA')\n",
      "('Rno-Mir-489_3p', 'Hsa-Mir-489-v1', 'UGACAUC')\n",
      "('Rno-Mir-506-P6_5p', 'Hsa-Mir-506-P6b', 'UCACAAG')\n",
      "('Rno-Mir-452-v1_5p', 'Hsa-Mir-506-P13', 'ACUGUUU')\n",
      "('Rno-Mir-124-P2-v2_3p', 'Hsa-Mir-506-P1', 'UAAGGCA')\n",
      "('Rno-Mir-124-P1-v2_3p', 'Hsa-Mir-506-P1', 'UAAGGCA')\n",
      "('Rno-Mir-124-P3-v2_3p', 'Hsa-Mir-506-P1', 'UAAGGCA')\n"
     ]
    }
   ],
   "source": [
    "def comp_seed(path, seqdict):\n",
    "    lostseeds = {}\n",
    "    for pair in seqdict.values():\n",
    "        for mirid, lostmat in pair.items():\n",
    "            lseed = lostmat[1:8]\n",
    "            if mirid in lostseeds:\n",
    "                raise ValueError('Seed mirid not unique')\n",
    "            lostseeds[mirid] = lseed\n",
    "    \n",
    "    compseeds = set()\n",
    "    with open(path) as fh:\n",
    "        for line in fh:\n",
    "            if line.startswith('>'):\n",
    "                dbid = line.strip().replace('>', '')\n",
    "            else:\n",
    "                dbmature = line.strip()\n",
    "                dbseed = dbmature[1:8]\n",
    "                for mirid in lostseeds:\n",
    "                    if lostseeds[mirid] == dbseed:\n",
    "                        compseeds.add((dbid, mirid, dbseed))\n",
    "                    \n",
    "    return list(compseeds)\n",
    "\n",
    "\n",
    "compseed = []\n",
    "for file in glob.glob(f'{rodmatdir}/*.fas'):\n",
    "    compseed.extend(comp_seed(file, lostfam2seq))\n",
    "    \n",
    "for comp in compseed:\n",
    "    print(comp)"
   ]
  },
  {
   "cell_type": "markdown",
   "metadata": {},
   "source": [
    "## Search for significantly similar mature miRNA sequences"
   ]
  },
  {
   "cell_type": "code",
   "execution_count": 95,
   "metadata": {},
   "outputs": [
    {
     "name": "stdout",
     "output_type": "stream",
     "text": [
      "['Mir-489', 'Mir-506']\n",
      "['Mmu-Mir-489_3p', 'Mmu-Mir-489_3p', 'Rno-Mir-489_3p', 'Rno-Mir-489_3p', 'Rno-Mir-506-P23_5p', 'Rno-Mir-506-P6_5p']\n"
     ]
    }
   ],
   "source": [
    "def make_blastndb(inpath, outpath):\n",
    "    db_command = 'makeblastdb -in {} -out {} -dbtype nucl'.format(inpath, outpath)\n",
    "    sp.call(db_command, shell=True)\n",
    "    \n",
    "\n",
    "def check_blastdb(db_path):\n",
    "    file_extensions = ['nhr', 'nin', 'nsq']\n",
    "    for fe in file_extensions:\n",
    "        files = glob.glob(f'{db_path}*{fe}')\n",
    "        if not files:\n",
    "            # At least one of the BLAST db files is not existent\n",
    "            return False\n",
    "    return True\n",
    "\n",
    "\n",
    "def run_blast(seq, blastdb, cpu=4, evalue=1):\n",
    "    blast_command = (\n",
    "                'blastn -task blastn-short -db {0} '\n",
    "                '-num_threads {1} -evalue {2} '\n",
    "                '-outfmt \"6 saccver pident qcovs length evalue bitscore sseq\"'.format(blastdb, cpu, evalue)\n",
    "            )\n",
    "    blast_call = sp.Popen(\n",
    "        blast_command, shell=True, stdin=sp.PIPE, stdout=sp.PIPE, stderr=sp.PIPE, encoding='utf8'\n",
    "    )\n",
    "    res, err = blast_call.communicate(seq)\n",
    "    if err:\n",
    "        print(f'ERROR: {err}')\n",
    "    return res\n",
    "\n",
    "\n",
    "def blast2FNs(path, seqdict):\n",
    "    if not check_blastdb(file):\n",
    "        make_blastndb(path, path)\n",
    "    FNs = []\n",
    "    for mirfam in seqdict:\n",
    "        for mirgene, mature in lostfam2seq[mirfam].items():\n",
    "            #seed = mature[1:8]\n",
    "            blastres = run_blast(mature, path, evalue=0.01)\n",
    "            if blastres:\n",
    "                _, blastfam = make_mirfam(blastres.split()[0])\n",
    "                if blastfam == mirfam:\n",
    "                    FNs.append(blastres.split()[0])\n",
    "    return FNs\n",
    "\n",
    "\n",
    "\n",
    "significantly_similar_mature_sequences = []\n",
    "for file in glob.glob(f'{rodmatdir}/*.fas'):\n",
    "    significantly_similar_mature_sequences.extend(blast2FNs(file, lostfam2seq))\n",
    "\n",
    "print(ncOrtho_MirGeneDB_mismatch)\n",
    "print(significantly_similar_mature_sequences)"
   ]
  },
  {
   "cell_type": "markdown",
   "metadata": {},
   "source": [
    "### Conclusion\n",
    "\n",
    "Potentially compensating miRNAs are all due to miRNAs that are inferred to be absent by ncOrtho, but have an entry in MirGeneDB"
   ]
  }
 ],
 "metadata": {
  "kernelspec": {
   "display_name": "rodent_loss",
   "language": "python",
   "name": "python3"
  },
  "language_info": {
   "codemirror_mode": {
    "name": "ipython",
    "version": 3
   },
   "file_extension": ".py",
   "mimetype": "text/x-python",
   "name": "python",
   "nbconvert_exporter": "python",
   "pygments_lexer": "ipython3",
   "version": "3.12.5"
  }
 },
 "nbformat": 4,
 "nbformat_minor": 2
}
