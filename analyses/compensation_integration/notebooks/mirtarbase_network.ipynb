{
 "cells": [
  {
   "cell_type": "markdown",
   "id": "8ad00883-a4d4-47e4-ac10-55bfec5416a6",
   "metadata": {},
   "source": [
    "## Find all human miRNAs from families lost in mice and extract their miRBase id"
   ]
  },
  {
   "cell_type": "code",
   "execution_count": 15,
   "id": "8b96b222-633c-42a8-b4cd-9244c2304365",
   "metadata": {},
   "outputs": [],
   "source": [
    "import pandas as pd\n",
    "from pathlib import Path\n",
    "PROJECTDIR = Path('.').resolve().parents[2]\n",
    "\n",
    "##########################################################################################################\n",
    "# input\n",
    "seedpath = '../data/hsa_seedinfo.txt'\n",
    "lostfampath = f'{PROJECTDIR}/external_data/all_rodentlost_mirfams.list'\n",
    "mirtarpath = '../data/miRTarBase_9_MTI.csv'\n",
    "\n",
    "# output\n",
    "figout = '../results/mirtarbase_targetgene_overlap_strongMTIonly_{}.png'\n",
    "tableout = '../results/lost_human_targets_strongMTIonly_{}.tsv'\n",
    "strong_MTI_only = True\n",
    "##########################################################################################################\n"
   ]
  },
  {
   "cell_type": "markdown",
   "id": "81d0e50e-10d6-4fac-a078-c36b6a099175",
   "metadata": {},
   "source": [
    "### Load mapping between MirGeneDB and miRBase IDs"
   ]
  },
  {
   "cell_type": "code",
   "execution_count": 16,
   "id": "42d5b025-0091-49af-9623-e85028d509ab",
   "metadata": {},
   "outputs": [],
   "source": [
    "def make_mirfam(string):\n",
    "    fam = '-'.join(string.split('-')[1:3]).strip()\n",
    "    return fam\n",
    "\n",
    "\n",
    "def read_lostfams(path):\n",
    "    with open(path, 'r') as fh:\n",
    "        fams = fh.read().split('\\n')\n",
    "        fams.pop(-1)\n",
    "    return fams\n",
    "\n",
    "\n",
    "def extract_mirbase(df):\n",
    "    outlist = []\n",
    "    for value in df['mirbase'].values:\n",
    "        value = value.strip()\n",
    "        if value == 'None':\n",
    "            continue\n",
    "        value = value.replace('hsa-mir', 'miR')\n",
    "        value = '-'.join(value.split('-')[:2])\n",
    "        outlist.append(value)\n",
    "    return outlist\n",
    "\n",
    "seedf = pd.read_csv(seedpath, sep='\\t', header=None)\n",
    "seedf = seedf.filter([0, 1]).rename(columns={0: 'mirgene_id', 1: 'mirbase_id'})\n",
    "seedf['mirgene_fam'] = seedf['mirgene_id'].apply(make_mirfam)\n",
    "seedf['mirbase_id'] = seedf['mirbase_id'].str.replace('hsa-', '')\n",
    "mapdf = seedf.filter(['mirbase_id', 'mirgene_fam'])\n",
    "mapdf['mirbase_id'] = mapdf['mirbase_id'].str.strip()\n"
   ]
  },
  {
   "cell_type": "markdown",
   "id": "cb6a716b-d42f-4bc7-8e7c-e2e1fbeef73c",
   "metadata": {},
   "source": [
    "#### Find miRBase IDs of lost miRNAs"
   ]
  },
  {
   "cell_type": "code",
   "execution_count": 17,
   "id": "403f98c0-055c-415c-a2d7-215043ba2b89",
   "metadata": {},
   "outputs": [
    {
     "data": {
      "text/html": [
       "<div>\n",
       "<style scoped>\n",
       "    .dataframe tbody tr th:only-of-type {\n",
       "        vertical-align: middle;\n",
       "    }\n",
       "\n",
       "    .dataframe tbody tr th {\n",
       "        vertical-align: top;\n",
       "    }\n",
       "\n",
       "    .dataframe thead th {\n",
       "        text-align: right;\n",
       "    }\n",
       "</style>\n",
       "<table border=\"1\" class=\"dataframe\">\n",
       "  <thead>\n",
       "    <tr style=\"text-align: right;\">\n",
       "      <th></th>\n",
       "      <th>mirbase_id</th>\n",
       "      <th>mirgene_fam</th>\n",
       "    </tr>\n",
       "  </thead>\n",
       "  <tbody>\n",
       "    <tr>\n",
       "      <th>241</th>\n",
       "      <td>mir-197</td>\n",
       "      <td>Mir-197</td>\n",
       "    </tr>\n",
       "    <tr>\n",
       "      <th>387</th>\n",
       "      <td>mir-489</td>\n",
       "      <td>Mir-489</td>\n",
       "    </tr>\n",
       "    <tr>\n",
       "      <th>398</th>\n",
       "      <td>mir-506</td>\n",
       "      <td>Mir-506</td>\n",
       "    </tr>\n",
       "    <tr>\n",
       "      <th>399</th>\n",
       "      <td>mir-507</td>\n",
       "      <td>Mir-506</td>\n",
       "    </tr>\n",
       "    <tr>\n",
       "      <th>400</th>\n",
       "      <td>mir-508</td>\n",
       "      <td>Mir-506</td>\n",
       "    </tr>\n",
       "  </tbody>\n",
       "</table>\n",
       "</div>"
      ],
      "text/plain": [
       "    mirbase_id mirgene_fam\n",
       "241    mir-197     Mir-197\n",
       "387    mir-489     Mir-489\n",
       "398    mir-506     Mir-506\n",
       "399    mir-507     Mir-506\n",
       "400    mir-508     Mir-506"
      ]
     },
     "metadata": {},
     "output_type": "display_data"
    }
   ],
   "source": [
    "lostfams = read_lostfams(lostfampath)\n",
    "\n",
    "lasfam_map = mapdf[mapdf.mirgene_fam.isin(lostfams)].drop_duplicates()\n",
    "display(lasfam_map.head())"
   ]
  },
  {
   "cell_type": "markdown",
   "id": "0ee20fd9-615c-4699-8ed6-d2578a62161f",
   "metadata": {},
   "source": [
    "## Find MirTarBase targets of lost miRNAs"
   ]
  },
  {
   "cell_type": "markdown",
   "id": "3f4707a7-ce5d-4b67-a7e8-fb3780cbff8e",
   "metadata": {},
   "source": [
    "#### Read MirTarBase"
   ]
  },
  {
   "cell_type": "code",
   "execution_count": 18,
   "id": "bba2a861-844c-43ea-9371-388e36cc2cb3",
   "metadata": {},
   "outputs": [],
   "source": [
    "dtypes = {\n",
    "    'miRTarBase ID': 'str',\n",
    "    'miRNA': 'str',\n",
    "    'Species (miRNA)': 'str',\n",
    "    'Target Gene': 'str',\n",
    "    'Target Gene (Entrez ID)': 'int',\n",
    "    'Species (Target Gene)': 'str',\n",
    "    'Experiments': 'str',\n",
    "    'Support Type': 'str',\n",
    "    'References (PMID)': 'int',\n",
    "}\n",
    "\n",
    "tdf = pd.read_csv(mirtarpath, sep='\\t', dtype=dtypes)\n",
    "\n",
    "human_targets = tdf[tdf['Species (Target Gene)'] == 'Homo sapiens']\n",
    "\n",
    "# with open('../data/mirtarbase_human_background.txt', 'w') as of:\n",
    "#     for target_gene in human_targets['Target Gene'].unique():\n",
    "#         of.write(target_gene + '\\n')\n",
    "\n",
    "# with open('../data/entrez_mirtarbase_human_background.txt', 'w') as of:\n",
    "#     for target_gene in human_targets['Target Gene (Entrez ID)'].unique():\n",
    "#         of.write(str(target_gene) + '\\n')\n",
    "\n",
    "\n",
    "# display(human_targets)\n",
    "if strong_MTI_only:\n",
    "    human_targets = human_targets[human_targets['Support Type'] == 'Functional MTI']\n"
   ]
  },
  {
   "cell_type": "code",
   "execution_count": 19,
   "id": "41015c5e-9803-4441-85e0-756fdea5e067",
   "metadata": {},
   "outputs": [
    {
     "data": {
      "text/html": [
       "<div>\n",
       "<style scoped>\n",
       "    .dataframe tbody tr th:only-of-type {\n",
       "        vertical-align: middle;\n",
       "    }\n",
       "\n",
       "    .dataframe tbody tr th {\n",
       "        vertical-align: top;\n",
       "    }\n",
       "\n",
       "    .dataframe thead th {\n",
       "        text-align: right;\n",
       "    }\n",
       "</style>\n",
       "<table border=\"1\" class=\"dataframe\">\n",
       "  <thead>\n",
       "    <tr style=\"text-align: right;\">\n",
       "      <th></th>\n",
       "      <th>miRTarBase ID</th>\n",
       "      <th>miRNA</th>\n",
       "      <th>Species (miRNA)</th>\n",
       "      <th>Target Gene</th>\n",
       "      <th>Target Gene (Entrez ID)</th>\n",
       "      <th>Species (Target Gene)</th>\n",
       "      <th>Experiments</th>\n",
       "      <th>Support Type</th>\n",
       "      <th>References (PMID)</th>\n",
       "      <th>mirbase_fam</th>\n",
       "      <th>mirgene_fam</th>\n",
       "    </tr>\n",
       "  </thead>\n",
       "  <tbody>\n",
       "    <tr>\n",
       "      <th>0</th>\n",
       "      <td>MIRT000473</td>\n",
       "      <td>hsa-miR-1296-5p</td>\n",
       "      <td>Homo sapiens</td>\n",
       "      <td>MCM2</td>\n",
       "      <td>4171</td>\n",
       "      <td>Homo sapiens</td>\n",
       "      <td>qRT-PCR//Western blot</td>\n",
       "      <td>Functional MTI</td>\n",
       "      <td>20332239</td>\n",
       "      <td>mir-1296</td>\n",
       "      <td>Mir-1296</td>\n",
       "    </tr>\n",
       "    <tr>\n",
       "      <th>1</th>\n",
       "      <td>MIRT001979</td>\n",
       "      <td>hsa-miR-510-5p</td>\n",
       "      <td>Homo sapiens</td>\n",
       "      <td>HTR3E</td>\n",
       "      <td>285242</td>\n",
       "      <td>Homo sapiens</td>\n",
       "      <td>Luciferase reporter assay</td>\n",
       "      <td>Functional MTI</td>\n",
       "      <td>18614545</td>\n",
       "      <td>mir-510</td>\n",
       "      <td>Mir-506</td>\n",
       "    </tr>\n",
       "    <tr>\n",
       "      <th>2</th>\n",
       "      <td>MIRT003549</td>\n",
       "      <td>hsa-miR-489-3p</td>\n",
       "      <td>Homo sapiens</td>\n",
       "      <td>PTPN11</td>\n",
       "      <td>5781</td>\n",
       "      <td>Homo sapiens</td>\n",
       "      <td>Luciferase reporter assay//Western blot</td>\n",
       "      <td>Functional MTI</td>\n",
       "      <td>20700123</td>\n",
       "      <td>mir-489</td>\n",
       "      <td>Mir-489</td>\n",
       "    </tr>\n",
       "    <tr>\n",
       "      <th>3</th>\n",
       "      <td>MIRT003549</td>\n",
       "      <td>hsa-miR-489-3p</td>\n",
       "      <td>Homo sapiens</td>\n",
       "      <td>PTPN11</td>\n",
       "      <td>5781</td>\n",
       "      <td>Homo sapiens</td>\n",
       "      <td>Luciferase reporter assay</td>\n",
       "      <td>Functional MTI</td>\n",
       "      <td>26918448</td>\n",
       "      <td>mir-489</td>\n",
       "      <td>Mir-489</td>\n",
       "    </tr>\n",
       "    <tr>\n",
       "      <th>4</th>\n",
       "      <td>MIRT004198</td>\n",
       "      <td>hsa-miR-197-3p</td>\n",
       "      <td>Homo sapiens</td>\n",
       "      <td>FOXO3</td>\n",
       "      <td>2309</td>\n",
       "      <td>Homo sapiens</td>\n",
       "      <td>Microarray//qRT-PCR//Western blot</td>\n",
       "      <td>Functional MTI</td>\n",
       "      <td>26540468</td>\n",
       "      <td>mir-197</td>\n",
       "      <td>Mir-197</td>\n",
       "    </tr>\n",
       "    <tr>\n",
       "      <th>...</th>\n",
       "      <td>...</td>\n",
       "      <td>...</td>\n",
       "      <td>...</td>\n",
       "      <td>...</td>\n",
       "      <td>...</td>\n",
       "      <td>...</td>\n",
       "      <td>...</td>\n",
       "      <td>...</td>\n",
       "      <td>...</td>\n",
       "      <td>...</td>\n",
       "      <td>...</td>\n",
       "    </tr>\n",
       "    <tr>\n",
       "      <th>80</th>\n",
       "      <td>MIRT734670</td>\n",
       "      <td>hsa-miR-885-5p</td>\n",
       "      <td>Homo sapiens</td>\n",
       "      <td>CTNNB1</td>\n",
       "      <td>1499</td>\n",
       "      <td>Homo sapiens</td>\n",
       "      <td>Immunohistochemistry//In situ hybridization//L...</td>\n",
       "      <td>Functional MTI</td>\n",
       "      <td>27738331</td>\n",
       "      <td>mir-885</td>\n",
       "      <td>Mir-885</td>\n",
       "    </tr>\n",
       "    <tr>\n",
       "      <th>81</th>\n",
       "      <td>MIRT734716</td>\n",
       "      <td>hsa-miR-892a</td>\n",
       "      <td>Homo sapiens</td>\n",
       "      <td>CD226</td>\n",
       "      <td>10666</td>\n",
       "      <td>Homo sapiens</td>\n",
       "      <td>Luciferase reporter assay//qRT-PCR//Western blot</td>\n",
       "      <td>Functional MTI</td>\n",
       "      <td>27883251</td>\n",
       "      <td>mir-892a</td>\n",
       "      <td>Mir-506</td>\n",
       "    </tr>\n",
       "    <tr>\n",
       "      <th>82</th>\n",
       "      <td>MIRT734725</td>\n",
       "      <td>hsa-miR-506-3p</td>\n",
       "      <td>Homo sapiens</td>\n",
       "      <td>PIM3</td>\n",
       "      <td>415116</td>\n",
       "      <td>Homo sapiens</td>\n",
       "      <td>Luciferase reporter assay//qRT-PCR//Western blot</td>\n",
       "      <td>Functional MTI</td>\n",
       "      <td>26238203</td>\n",
       "      <td>mir-506</td>\n",
       "      <td>Mir-506</td>\n",
       "    </tr>\n",
       "    <tr>\n",
       "      <th>83</th>\n",
       "      <td>MIRT734874</td>\n",
       "      <td>hsa-miR-506-3p</td>\n",
       "      <td>Homo sapiens</td>\n",
       "      <td>FLOT1</td>\n",
       "      <td>10211</td>\n",
       "      <td>Homo sapiens</td>\n",
       "      <td>Luciferase reporter assay//qRT-PCR</td>\n",
       "      <td>Functional MTI</td>\n",
       "      <td>25793370</td>\n",
       "      <td>mir-506</td>\n",
       "      <td>Mir-506</td>\n",
       "    </tr>\n",
       "    <tr>\n",
       "      <th>84</th>\n",
       "      <td>MIRT735077</td>\n",
       "      <td>hsa-miR-489-3p</td>\n",
       "      <td>Homo sapiens</td>\n",
       "      <td>MMP7</td>\n",
       "      <td>4316</td>\n",
       "      <td>Homo sapiens</td>\n",
       "      <td>Immunohistochemistry//Luciferase reporter assa...</td>\n",
       "      <td>Functional MTI</td>\n",
       "      <td>28189067</td>\n",
       "      <td>mir-489</td>\n",
       "      <td>Mir-489</td>\n",
       "    </tr>\n",
       "  </tbody>\n",
       "</table>\n",
       "<p>85 rows × 11 columns</p>\n",
       "</div>"
      ],
      "text/plain": [
       "   miRTarBase ID            miRNA Species (miRNA) Target Gene  \\\n",
       "0     MIRT000473  hsa-miR-1296-5p    Homo sapiens        MCM2   \n",
       "1     MIRT001979   hsa-miR-510-5p    Homo sapiens       HTR3E   \n",
       "2     MIRT003549   hsa-miR-489-3p    Homo sapiens      PTPN11   \n",
       "3     MIRT003549   hsa-miR-489-3p    Homo sapiens      PTPN11   \n",
       "4     MIRT004198   hsa-miR-197-3p    Homo sapiens       FOXO3   \n",
       "..           ...              ...             ...         ...   \n",
       "80    MIRT734670   hsa-miR-885-5p    Homo sapiens      CTNNB1   \n",
       "81    MIRT734716     hsa-miR-892a    Homo sapiens       CD226   \n",
       "82    MIRT734725   hsa-miR-506-3p    Homo sapiens        PIM3   \n",
       "83    MIRT734874   hsa-miR-506-3p    Homo sapiens       FLOT1   \n",
       "84    MIRT735077   hsa-miR-489-3p    Homo sapiens        MMP7   \n",
       "\n",
       "    Target Gene (Entrez ID) Species (Target Gene)  \\\n",
       "0                      4171          Homo sapiens   \n",
       "1                    285242          Homo sapiens   \n",
       "2                      5781          Homo sapiens   \n",
       "3                      5781          Homo sapiens   \n",
       "4                      2309          Homo sapiens   \n",
       "..                      ...                   ...   \n",
       "80                     1499          Homo sapiens   \n",
       "81                    10666          Homo sapiens   \n",
       "82                   415116          Homo sapiens   \n",
       "83                    10211          Homo sapiens   \n",
       "84                     4316          Homo sapiens   \n",
       "\n",
       "                                          Experiments    Support Type  \\\n",
       "0                               qRT-PCR//Western blot  Functional MTI   \n",
       "1                           Luciferase reporter assay  Functional MTI   \n",
       "2             Luciferase reporter assay//Western blot  Functional MTI   \n",
       "3                           Luciferase reporter assay  Functional MTI   \n",
       "4                   Microarray//qRT-PCR//Western blot  Functional MTI   \n",
       "..                                                ...             ...   \n",
       "80  Immunohistochemistry//In situ hybridization//L...  Functional MTI   \n",
       "81   Luciferase reporter assay//qRT-PCR//Western blot  Functional MTI   \n",
       "82   Luciferase reporter assay//qRT-PCR//Western blot  Functional MTI   \n",
       "83                 Luciferase reporter assay//qRT-PCR  Functional MTI   \n",
       "84  Immunohistochemistry//Luciferase reporter assa...  Functional MTI   \n",
       "\n",
       "    References (PMID) mirbase_fam mirgene_fam  \n",
       "0            20332239    mir-1296    Mir-1296  \n",
       "1            18614545     mir-510     Mir-506  \n",
       "2            20700123     mir-489     Mir-489  \n",
       "3            26918448     mir-489     Mir-489  \n",
       "4            26540468     mir-197     Mir-197  \n",
       "..                ...         ...         ...  \n",
       "80           27738331     mir-885     Mir-885  \n",
       "81           27883251    mir-892a     Mir-506  \n",
       "82           26238203     mir-506     Mir-506  \n",
       "83           25793370     mir-506     Mir-506  \n",
       "84           28189067     mir-489     Mir-489  \n",
       "\n",
       "[85 rows x 11 columns]"
      ]
     },
     "metadata": {},
     "output_type": "display_data"
    },
    {
     "data": {
      "text/plain": [
       "array(['mir-1296', 'mir-510', 'mir-489', 'mir-197', 'mir-892b', 'mir-885',\n",
       "       'mir-506', 'mir-1908', 'mir-513b', 'mir-508', 'mir-513c',\n",
       "       'mir-766', 'mir-888', 'mir-769', 'mir-892a'], dtype=object)"
      ]
     },
     "metadata": {},
     "output_type": "display_data"
    },
    {
     "data": {
      "text/plain": [
       "15"
      ]
     },
     "metadata": {},
     "output_type": "display_data"
    }
   ],
   "source": [
    "#lost_mirbase = ['hsa-' + mirid.replace('mir', 'miR') for mirid in lasfam_map.mirbase_id]\n",
    "\n",
    "\n",
    "def mirbase2fam(x):\n",
    "    return '-'.join(x.replace('miR', 'mir').split('-')[1:3])\n",
    "    \n",
    "human_targets['mirbase_fam'] = human_targets.miRNA.apply(mirbase2fam)\n",
    "\n",
    "\n",
    "lost_human_targets = human_targets[human_targets.mirbase_fam.isin(lasfam_map.mirbase_id)]\n",
    "lost_human_targets = lost_human_targets.rename(columns={'mirbase_fam': 'mirbase_id'})\n",
    "lost_human_targets = lost_human_targets.merge(lasfam_map)\n",
    "lost_human_targets = lost_human_targets.rename(columns={'mirbase_id': 'mirbase_fam'})\n",
    "display(lost_human_targets)\n",
    "\n",
    "display(lost_human_targets.mirbase_fam.unique())\n",
    "display(len(lost_human_targets.mirbase_fam.unique()))"
   ]
  },
  {
   "cell_type": "markdown",
   "id": "d0427254-c060-499a-9b8e-5e26c7ca790e",
   "metadata": {},
   "source": [
    "#### Count overlap"
   ]
  },
  {
   "cell_type": "code",
   "execution_count": 20,
   "id": "e1792fcb-056e-42ae-a0c0-d1ea0e3463da",
   "metadata": {},
   "outputs": [
    {
     "name": "stdout",
     "output_type": "stream",
     "text": [
      "SNAI2\n",
      "GNG13\n",
      "DR1\n",
      "BTG3\n",
      "CTNNB1\n"
     ]
    }
   ],
   "source": [
    "from collections import Counter\n",
    "\n",
    "fil4count = lost_human_targets.filter(['Target Gene', 'mirbase_fam']).drop_duplicates()\n",
    "\n",
    "target_count = Counter(fil4count['Target Gene'])\n",
    "\n",
    "for target_gene, count in target_count.items():\n",
    "    if count > 1:\n",
    "        print(target_gene)\n"
   ]
  },
  {
   "cell_type": "markdown",
   "id": "9e14c1be-ce84-4e45-a04c-a565910fca35",
   "metadata": {},
   "source": [
    "#### Randomly sample distributions\n",
    "\n",
    "* Randomly generate sets of miRNAs (N=24)\n",
    "* Determine distribution of overlap\n",
    "* Plot against observed"
   ]
  },
  {
   "cell_type": "code",
   "execution_count": 21,
   "id": "bddede8e-d57c-4a46-a598-0743eb205220",
   "metadata": {},
   "outputs": [],
   "source": [
    "import random as rd\n",
    "import seaborn as sns\n",
    "import matplotlib.pyplot as plt\n",
    "import numpy as np\n",
    "\n",
    "all_mirbase_fams = sorted(human_targets.mirbase_fam.unique())\n",
    "N = len(lost_human_targets.mirbase_fam.unique())\n",
    "enrich_df = human_targets.filter(['Target Gene', 'mirbase_fam']).drop_duplicates()\n",
    "\n",
    "\n",
    "random_overlap = []\n",
    "for i in range(1000):\n",
    "    random_mirfams = rd.sample(all_mirbase_fams, N)\n",
    "\n",
    "    random_targets = human_targets[human_targets.mirbase_fam.isin(random_mirfams)]\n",
    "\n",
    "    overlap = dict(Counter(random_targets['Target Gene'])).values()\n",
    "    random_overlap.append(overlap)\n"
   ]
  },
  {
   "cell_type": "markdown",
   "id": "bf48ceba-e13e-45ac-ab9a-d4188fa9aea3",
   "metadata": {},
   "source": [
    "#### Plot"
   ]
  },
  {
   "cell_type": "code",
   "execution_count": 22,
   "id": "4ef6de22-ae5f-447d-91a9-6e5d3c89a9e3",
   "metadata": {},
   "outputs": [
    {
     "name": "stdout",
     "output_type": "stream",
     "text": [
      "[19, 1, 1, 2, 6]\n"
     ]
    },
    {
     "data": {
      "image/png": "[encoded data removed]",
      "text/plain": [
       "<Figure size 600x400 with 1 Axes>"
      ]
     },
     "metadata": {},
     "output_type": "display_data"
    }
   ],
   "source": [
    "concat_random = [element for nestedlist in random_overlap for element in nestedlist]\n",
    "print(concat_random[:5])\n",
    "\n",
    "sns.set(rc={'figure.figsize':(6,4), 'ytick.left': True, 'xtick.bottom': True}, font_scale = 1.2, style='whitegrid')\n",
    "sns.kdeplot(concat_random, fill=True, color='tab:blue', label='Random background', common_norm=True)\n",
    "tc_array = np.array(list(target_count.values()), dtype=int)\n",
    "\n",
    "\n",
    "sns.histplot(tc_array, color='orange', stat=\"density\", discrete=True, label='Observed')\n",
    "plt.xlim([0, 20])\n",
    "plt.xlabel('Overlapping target genes')\n",
    "plt.xticks(np.arange(0, 22, 2))\n",
    "plt.legend()\n",
    "plt.tight_layout()\n",
    "plt.savefig(figout.format(strong_MTI_only), dpi=330)\n",
    "plt.show()"
   ]
  },
  {
   "cell_type": "markdown",
   "id": "417fff6a-c64d-42ad-ae6c-8f8f38071373",
   "metadata": {},
   "source": [
    "## Statistics\n",
    "\n",
    "* Mann-Whitney U test\n",
    "* Compares two non-normal distributions (uses ranks)\n",
    "\n",
    "The Mann-Whitney U test is a nonparametric test of the null hypothesis that the distribution underlying sample x is the same as the distribution underlying sample y. It is often used as a test of difference in location between distributions."
   ]
  },
  {
   "cell_type": "code",
   "execution_count": 23,
   "id": "b240fc31-3a69-4b8f-867d-7d7bde5a476b",
   "metadata": {},
   "outputs": [
    {
     "name": "stdout",
     "output_type": "stream",
     "text": [
      "6171397.0\n",
      "0.9995000222663335\n"
     ]
    }
   ],
   "source": [
    "from scipy.stats import mannwhitneyu, wilcoxon\n",
    "\n",
    "s, p = mannwhitneyu(tc_array, concat_random, alternative='greater')\n",
    "print(s)\n",
    "print(p)"
   ]
  },
  {
   "cell_type": "markdown",
   "id": "51f71a31-e5ad-41f5-a9e9-b99999aaa727",
   "metadata": {},
   "source": [
    "## List target genes of lost miRNAs for GO-Enrichment"
   ]
  },
  {
   "cell_type": "code",
   "execution_count": 1,
   "id": "9146d677-f374-48c2-8c25-2f7c90d57815",
   "metadata": {},
   "outputs": [
    {
     "ename": "NameError",
     "evalue": "name 'lost_human_targets' is not defined",
     "output_type": "error",
     "traceback": [
      "\u001b[0;31m---------------------------------------------------------------------------\u001b[0m",
      "\u001b[0;31mNameError\u001b[0m                                 Traceback (most recent call last)",
      "Cell \u001b[0;32mIn[1], line 1\u001b[0m\n\u001b[0;32m----> 1\u001b[0m display(\u001b[43mlost_human_targets\u001b[49m)\n\u001b[1;32m      3\u001b[0m \u001b[38;5;66;03m# with open(f'data/lostfam_mirtarbase_targetgenes_strongMTIonly_{strong_MTI_only}.txt', 'w') as of:\u001b[39;00m\n\u001b[1;32m      4\u001b[0m \u001b[38;5;66;03m#     for targetgene in lost_human_targets['Target Gene'].unique():\u001b[39;00m\n\u001b[1;32m      5\u001b[0m \u001b[38;5;66;03m#         of.write(targetgene + '\\n')\u001b[39;00m\n\u001b[0;32m   (...)\u001b[0m\n\u001b[1;32m      9\u001b[0m \u001b[38;5;66;03m#         of.write(str(targetgene) + '\\n')\u001b[39;00m\n\u001b[1;32m     10\u001b[0m \u001b[38;5;66;03m# print('done')\u001b[39;00m\n\u001b[1;32m     13\u001b[0m lost_human_targets\u001b[38;5;241m.\u001b[39mto_csv(tableout\u001b[38;5;241m.\u001b[39mformat(strong_MTI_only), sep\u001b[38;5;241m=\u001b[39m\u001b[38;5;124m'\u001b[39m\u001b[38;5;130;01m\\t\u001b[39;00m\u001b[38;5;124m'\u001b[39m, index\u001b[38;5;241m=\u001b[39m\u001b[38;5;28;01mFalse\u001b[39;00m)\n",
      "\u001b[0;31mNameError\u001b[0m: name 'lost_human_targets' is not defined"
     ]
    }
   ],
   "source": [
    "display(lost_human_targets)\n",
    "\n",
    "# with open(f'data/lostfam_mirtarbase_targetgenes_strongMTIonly_{strong_MTI_only}.txt', 'w') as of:\n",
    "#     for targetgene in lost_human_targets['Target Gene'].unique():\n",
    "#         of.write(targetgene + '\\n')\n",
    "\n",
    "# with open(f'data/Entrez_lostfam_mirtarbase_targetgenes_strongMTIonly_{strong_MTI_only}.txt', 'w') as of:\n",
    "#     for targetgene in lost_human_targets['Target Gene (Entrez ID)'].unique():\n",
    "#         of.write(str(targetgene) + '\\n')\n",
    "# print('done')\n",
    "\n",
    "\n",
    "lost_human_targets.to_csv(tableout.format(strong_MTI_only), sep='\\t', index=False)"
   ]
  }
 ],
 "metadata": {
  "kernelspec": {
   "display_name": "rodent_loss",
   "language": "python",
   "name": "python3"
  },
  "language_info": {
   "codemirror_mode": {
    "name": "ipython",
    "version": 3
   },
   "file_extension": ".py",
   "mimetype": "text/x-python",
   "name": "python",
   "nbconvert_exporter": "python",
   "pygments_lexer": "ipython3",
   "version": "3.12.5"
  }
 },
 "nbformat": 4,
 "nbformat_minor": 5
}
