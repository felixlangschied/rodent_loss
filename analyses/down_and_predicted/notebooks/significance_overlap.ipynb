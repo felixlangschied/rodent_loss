{
 "cells": [
  {
   "cell_type": "markdown",
   "id": "12b7a72a-43bb-44bd-956a-2c15e24beeed",
   "metadata": {},
   "source": [
    "# Statistical significance of overlap\n",
    "\n",
    "* We observe 4 genes predicted as targets Mir-197 and down-regulated in response to its overexpression\n",
    "* Is this more than we would expect to see by chance?"
   ]
  },
  {
   "cell_type": "markdown",
   "id": "08408050-3197-4573-b9b4-62190db840a2",
   "metadata": {},
   "source": [
    "# Load data"
   ]
  },
  {
   "cell_type": "code",
   "execution_count": 9,
   "id": "15c36e0b-0f0e-4fa4-9db5-4c32c6bf23bf",
   "metadata": {},
   "outputs": [
    {
     "data": {
      "text/html": [
       "<div>\n",
       "<style scoped>\n",
       "    .dataframe tbody tr th:only-of-type {\n",
       "        vertical-align: middle;\n",
       "    }\n",
       "\n",
       "    .dataframe tbody tr th {\n",
       "        vertical-align: top;\n",
       "    }\n",
       "\n",
       "    .dataframe thead th {\n",
       "        text-align: right;\n",
       "    }\n",
       "</style>\n",
       "<table border=\"1\" class=\"dataframe\">\n",
       "  <thead>\n",
       "    <tr style=\"text-align: right;\">\n",
       "      <th></th>\n",
       "      <th>condition</th>\n",
       "      <th>num_doApr</th>\n",
       "    </tr>\n",
       "  </thead>\n",
       "  <tbody>\n",
       "    <tr>\n",
       "      <th>0</th>\n",
       "      <td>human|mir197</td>\n",
       "      <td>25</td>\n",
       "    </tr>\n",
       "    <tr>\n",
       "      <th>1</th>\n",
       "      <td>human|mir769</td>\n",
       "      <td>24</td>\n",
       "    </tr>\n",
       "    <tr>\n",
       "      <th>2</th>\n",
       "      <td>mouse|mir197</td>\n",
       "      <td>20</td>\n",
       "    </tr>\n",
       "    <tr>\n",
       "      <th>3</th>\n",
       "      <td>mouse|mir769</td>\n",
       "      <td>17</td>\n",
       "    </tr>\n",
       "  </tbody>\n",
       "</table>\n",
       "</div>"
      ],
      "text/plain": [
       "      condition  num_doApr\n",
       "0  human|mir197         25\n",
       "1  human|mir769         24\n",
       "2  mouse|mir197         20\n",
       "3  mouse|mir769         17"
      ]
     },
     "metadata": {},
     "output_type": "display_data"
    }
   ],
   "source": [
    "from rodent_loss_src.doapr import read_and_filter_doapr\n",
    "from pathlib import Path\n",
    "import pandas as pd\n",
    "\n",
    "ORGANISMS = [\"human\", \"mouse\"]\n",
    "MIRNAS = [\"mir197\", \"mir769\"]\n",
    "PROJECTDIR = Path('.').resolve().parents[2]\n",
    "\n",
    "\n",
    "tarpath = f'{PROJECTDIR}/milestones/data/doapr/sigdown_and_predictedTargets_tsM_tsH.tsv'\n",
    "oma_path = f'{PROJECTDIR}/analyses/rnaseq/data/human_mouse_omapairwise.txt'\n",
    "\n",
    "col = []\n",
    "for organism in ORGANISMS:\n",
    "    for mirna in MIRNAS:\n",
    "        condition = f'{organism}|{mirna}'\n",
    "        targetdf = read_and_filter_doapr(tarpath, organism, mirna, targetscan_cutoff=-0.2)\n",
    "        doapr = [gene.upper() for gene in targetdf.index]\n",
    "        col.append([condition, len(set(doapr))])\n",
    "\n",
    "condition_doApr = pd.DataFrame(col, columns=['condition', 'num_doApr'])\n",
    "display(condition_doApr)"
   ]
  },
  {
   "cell_type": "markdown",
   "id": "825f8f07-7a77-43ca-812b-6acbaf7de854",
   "metadata": {},
   "source": [
    "## Simluation-based approach\n",
    "\n",
    "* Draw random sets of size \"down and predicted\" from all genes expressed in iPSCs\n",
    "* enumerate overlap"
   ]
  },
  {
   "cell_type": "code",
   "execution_count": 13,
   "id": "9bfa7e75-35c0-474c-b0d8-7f797c987277",
   "metadata": {},
   "outputs": [],
   "source": [
    "from rodent_loss_src.rnaseq import read_oma, parse_rnaseq, find_significant\n",
    "\n",
    "\n",
    "def expressed_genes(df, min_base=100):\n",
    "    df = df[df.baseMean >= min_base]\n",
    "    return set(df.gene.str.upper())\n",
    "\n",
    "\n",
    "\n",
    "pairwise = read_oma(oma_path)\n",
    "condition2all_genes = {}\n",
    "for organism in ORGANISMS:\n",
    "    \n",
    "    \n",
    "    for mirna in MIRNAS:\n",
    "        condition = f'{organism}|{mirna}'\n",
    "        rnaseqdf = parse_rnaseq(f'{PROJECTDIR}/analyses/rnaseq/data/{organism}_results_Neg_vs_{mirna}.tsv', pairwise, organism, mirna)\n",
    "        all_genes = expressed_genes(rnaseqdf)\n",
    "        condition2all_genes[condition] = all_genes\n",
    "        \n",
    "\n",
    "\n",
    "    "
   ]
  },
  {
   "cell_type": "code",
   "execution_count": 26,
   "id": "5e7263d6-dcb4-4f2f-9766-134de790131a",
   "metadata": {},
   "outputs": [],
   "source": [
    "import random as rd\n",
    "\n",
    "def sample_overlap(condition2all_genes, condition_doApr, con1='human|mir197', con2='mouse|mir197', iterations=100000):\n",
    "    overlap_count = []\n",
    "    con1_k = condition_doApr.num_doApr[condition_doApr.condition == con1].values[0]\n",
    "    con2_k = condition_doApr.num_doApr[condition_doApr.condition == con2].values[0]\n",
    "\n",
    "    con1_genes = sorted(condition2all_genes[con1])\n",
    "    con2_genes = sorted(condition2all_genes[con2])\n",
    "    \n",
    "    for i in range(iterations):\n",
    "        random_subset_con1 = set(rd.sample(con1_genes, k=con1_k))\n",
    "        random_subset_con2 = set(rd.sample(con2_genes, k=con2_k))\n",
    "\n",
    "        overlap = random_subset_con1.intersection(random_subset_con2)\n",
    "        overlap_count.append(len(overlap))\n",
    "    return overlap_count\n",
    "    \n",
    "\n",
    "\n",
    "random_overlap = sample_overlap(condition2all_genes, condition_doApr)"
   ]
  },
  {
   "cell_type": "code",
   "execution_count": 34,
   "id": "cd201b3b-5cf5-4a81-8007-4ae90c0078bf",
   "metadata": {},
   "outputs": [
    {
     "data": {
      "image/png": "[encoded data removed]",
      "text/plain": [
       "<Figure size 640x480 with 1 Axes>"
      ]
     },
     "metadata": {},
     "output_type": "display_data"
    }
   ],
   "source": [
    "import seaborn as sns\n",
    "import matplotlib.pyplot as plt\n",
    "\n",
    "sns.histplot(random_overlap, discrete=True, label='background overlap')\n",
    "plt.axvline(4, color='red', label='observed overlap')\n",
    "plt.legend()\n",
    "plt.show()"
   ]
  },
  {
   "cell_type": "markdown",
   "id": "3f1e87ab-5faa-40e6-9992-a2f09a766104",
   "metadata": {},
   "source": [
    "## Fisher's exact test\n",
    "\n",
    "M = total options\n",
    "n = number positive outcomes\n",
    "N = sample size\n",
    "x = number of sucessfull draws"
   ]
  },
  {
   "cell_type": "code",
   "execution_count": 32,
   "id": "24d2daea-9427-471c-b8c4-2fc0523faf0b",
   "metadata": {},
   "outputs": [
    {
     "name": "stdout",
     "output_type": "stream",
     "text": [
      "4 9402 20 25\n",
      "75.22 enrichment with p-value 1.3e-09\n",
      "4 8465 25 20\n",
      "67.72 enrichment with p-value 2.2e-09\n"
     ]
    }
   ],
   "source": [
    "from scipy.stats import hypergeom\n",
    "\n",
    "\n",
    "def hypergeometric_overlap(condition2all_genes, condition_doApr, condition, inverse_condition):\n",
    "\n",
    "    N = condition_doApr.num_doApr[condition_doApr.condition == condition].values[0]\n",
    "    n = condition_doApr.num_doApr[condition_doApr.condition == inverse_condition].values[0]\n",
    "    M = len(condition2all_genes[condition])  \n",
    "    x = 4\n",
    "\n",
    "    print(x, M, n, N)\n",
    "    pval = hypergeom.sf(x, M, n, N)\n",
    "    \n",
    "    expected_draws = (N*n)/M\n",
    "    \n",
    "    fold_enrichment = x / expected_draws\n",
    "    \n",
    "    print(f'{fold_enrichment:.2f} enrichment with p-value {pval:.1e}')\n",
    "\n",
    "\n",
    "hypergeometric_overlap(condition2all_genes, condition_doApr, condition='human|mir197', inverse_condition='mouse|mir197')\n",
    "hypergeometric_overlap(condition2all_genes, condition_doApr, condition='mouse|mir197', inverse_condition='human|mir197')"
   ]
  }
 ],
 "metadata": {
  "kernelspec": {
   "display_name": "Python 3 (ipykernel)",
   "language": "python",
   "name": "python3"
  },
  "language_info": {
   "codemirror_mode": {
    "name": "ipython",
    "version": 3
   },
   "file_extension": ".py",
   "mimetype": "text/x-python",
   "name": "python",
   "nbconvert_exporter": "python",
   "pygments_lexer": "ipython3",
   "version": "3.12.5"
  }
 },
 "nbformat": 4,
 "nbformat_minor": 5
}
