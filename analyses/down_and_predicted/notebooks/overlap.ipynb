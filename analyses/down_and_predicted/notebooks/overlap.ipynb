{
 "cells": [
  {
   "cell_type": "code",
   "execution_count": null,
   "metadata": {},
   "outputs": [],
   "source": [
    "from rodent_loss_src.doapr import read_and_filter_doapr\n",
    "from pathlib import Path\n",
    "\n",
    "ORGANISMS = [\"human\", \"mouse\"]\n",
    "MIRNAS = [\"mir197\", \"mir769\"]\n",
    "PROJECTDIR = Path('.').resolve().parents[2]"
   ]
  },
  {
   "cell_type": "markdown",
   "metadata": {},
   "source": [
    "## Collect data"
   ]
  },
  {
   "cell_type": "code",
   "execution_count": 13,
   "metadata": {},
   "outputs": [],
   "source": [
    "tarpath = f'{PROJECTDIR}/milestones/data/doapr/sigdown_and_predictedTargets_tsM_tsH.tsv'\n",
    "\n",
    "col = {}\n",
    "for organism in ORGANISMS:\n",
    "    for mirna in MIRNAS:\n",
    "        condition = f'{organism}|{mirna}'\n",
    "        targetdf = read_and_filter_doapr(tarpath, organism, mirna, targetscan_cutoff=-0.2)\n",
    "        doapr = [gene.upper() for gene in targetdf.index]\n",
    "        col[condition] = set(doapr)\n",
    "        "
   ]
  },
  {
   "cell_type": "markdown",
   "metadata": {},
   "source": [
    "## Enumerate overlap"
   ]
  },
  {
   "cell_type": "code",
   "execution_count": 12,
   "metadata": {},
   "outputs": [
    {
     "name": "stdout",
     "output_type": "stream",
     "text": [
      "human|mir197 - human|mir769: set()\n",
      "human|mir197 - mouse|mir197: {'ATP6V1A', 'TTPAL', 'ARMC1', 'CCDC85C'}\n",
      "human|mir197 - mouse|mir769: set()\n",
      "human|mir769 - human|mir197: set()\n",
      "human|mir769 - mouse|mir197: set()\n",
      "human|mir769 - mouse|mir769: set()\n",
      "mouse|mir197 - human|mir197: {'ATP6V1A', 'TTPAL', 'ARMC1', 'CCDC85C'}\n",
      "mouse|mir197 - human|mir769: set()\n",
      "mouse|mir197 - mouse|mir769: set()\n",
      "mouse|mir769 - human|mir197: set()\n",
      "mouse|mir769 - human|mir769: set()\n",
      "mouse|mir769 - mouse|mir197: set()\n"
     ]
    }
   ],
   "source": [
    "for condition1 in col:\n",
    "    for condition2 in col:\n",
    "        if condition1 == condition2:\n",
    "            continue\n",
    "        overlap = col[condition1].intersection(col[condition2])\n",
    "        print(f'{condition1} - {condition2}: {overlap}')"
   ]
  }
 ],
 "metadata": {
  "kernelspec": {
   "display_name": "rodent_loss",
   "language": "python",
   "name": "python3"
  },
  "language_info": {
   "codemirror_mode": {
    "name": "ipython",
    "version": 3
   },
   "file_extension": ".py",
   "mimetype": "text/x-python",
   "name": "python",
   "nbconvert_exporter": "python",
   "pygments_lexer": "ipython3",
   "version": "3.12.5"
  }
 },
 "nbformat": 4,
 "nbformat_minor": 2
}
