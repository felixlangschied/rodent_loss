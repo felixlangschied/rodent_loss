{
 "cells": [
  {
   "cell_type": "code",
   "execution_count": 18,
   "metadata": {},
   "outputs": [],
   "source": [
    "from pathlib import Path\n",
    "from rodent_loss_src.rnaseq import read_oma, parse_rnaseq, find_significant\n",
    "import pandas as pd\n",
    "\n",
    "ORGANISMS = [\"human\", \"mouse\"]\n",
    "MIRNAS = [\"mir197\", \"mir769\"]\n",
    "PROJECTDIR = Path('.').resolve().parents[2]\n",
    "oma_path = f'{PROJECTDIR}/external_data/human_mouse_omapairwise.txt'\n",
    "target_path = f'{PROJECTDIR}/milestones/data/targetscan/unweighted_TargetScanHuman_human_mouse_mir197_mir769.tsv'\n",
    "# output\n",
    "overlap_path = f'{PROJECTDIR}/publication/supplement_tables/targets_overlap_log2fold025.tsv'\n",
    "\n",
    "\n",
    "def split_up_down_regulated(df):\n",
    "    \"\"\"\n",
    "    \"\"\"\n",
    "    df['gene'] = df['gene'].str.upper()\n",
    "    up = df[df['log2FoldChange'] >= 0].reset_index(drop=True)\n",
    "    down = df[df['log2FoldChange'] <= -0].reset_index(drop=True)\n",
    "    return list(up.gene.values), list(down.gene.values)\n",
    "\n",
    "\n",
    "def filter_targets_for_condition(df, organism, mirna, context_score_cutoff):\n",
    "    df = df[\n",
    "        (df.organism == organism) & (df.mirna == mirna)\n",
    "    ]\n",
    "    fdf = df.copy().drop(columns=['organism', 'mirna'])\n",
    "    fdf = fdf.rename(columns={'target_gene': 'gene', 'Total context++ score': 'TShuman_tc++s'})\n",
    "    fdf = fdf[fdf['TShuman_tc++s'] <= context_score_cutoff]\n",
    "    if organism == 'mouse':\n",
    "        fdf.gene = fdf.gene.str.capitalize()\n",
    "    return fdf\n",
    "\n",
    "\n",
    "def list_to_capitalized_and_capital_set(l):\n",
    "    capitalized = {gene.capitalize() for gene in l}\n",
    "    capital = {gene.upper() for gene in l}\n",
    "    return capitalized.union(capital)\n",
    "\n",
    "\n",
    "def find_down_and_predicted(predicted_targets, pairwise, min_reads, min_adj_p, min_logfoldchange, context_score_cutoff):\n",
    "    col = {}\n",
    "    for organism in ORGANISMS:\n",
    "        for mirna in MIRNAS:\n",
    "            condition = f'{organism}|{mirna}'\n",
    "            in_path = f\"{PROJECTDIR}/analyses/rnaseq/data/{organism}_results_Neg_vs_{mirna}.tsv\"\n",
    "            rnadf = parse_rnaseq(in_path, pairwise, organism, mirna)\n",
    "            differential = find_significant(rnadf, min_reads, min_adj_p, min_logfoldchange)\n",
    "            up, down = split_up_down_regulated(differential)\n",
    "            condition_specific_targets = filter_targets_for_condition(predicted_targets, organism, mirna, context_score_cutoff)\n",
    "            # find down and predicted\n",
    "            #display(condition_specific_targets)\n",
    "            # display(down)\n",
    "            down = list_to_capitalized_and_capital_set(down)\n",
    "            condition_specific_targets = list_to_capitalized_and_capital_set(condition_specific_targets.gene.values)\n",
    "            doapr = condition_specific_targets.intersection(down)\n",
    "            # display(condition_specific_targets)\n",
    "            human_dopar = {gene.upper() for gene in doapr}\n",
    "            col[condition] = human_dopar\n",
    "    return col\n",
    "\n",
    "\n",
    "def print_overlaps(d):\n",
    "    skip = set()\n",
    "    col = []\n",
    "    for condition1 in d:\n",
    "        for condition2 in d:\n",
    "            if f'{condition1}|{condition2}' in skip:\n",
    "                continue\n",
    "            if condition1 == condition2:\n",
    "                continue\n",
    "            overlap = d[condition1].intersection(d[condition2])\n",
    "            display(f'{condition1} - {condition2}: {len(overlap)}, {overlap}')\n",
    "            skip.add(f'{condition2}|{condition1}')\n",
    "            col.append([condition1, condition2, overlap, len(overlap)])\n",
    "    df = pd.DataFrame(col, columns=['condition1', 'condition2', 'overlap', 'num_overlap'])\n",
    "    return df\n",
    "\n",
    "\n"
   ]
  },
  {
   "cell_type": "code",
   "execution_count": 19,
   "metadata": {},
   "outputs": [
    {
     "name": "stdout",
     "output_type": "stream",
     "text": [
      "No. unique human orthologs: 18105\n",
      "No. unique mouse orthologs: 18205\n"
     ]
    },
    {
     "data": {
      "text/plain": [
       "\"human|mir197 - human|mir769: 1, {'HTR7'}\""
      ]
     },
     "metadata": {},
     "output_type": "display_data"
    },
    {
     "data": {
      "text/plain": [
       "\"human|mir197 - mouse|mir197: 11, {'CCDC85C', 'ARMC1', 'RAB28', 'TNFRSF21', 'ATP6V1A', 'MPZL1', 'TRIT1', 'AMMECR1L', 'KPNA6', 'MAPK8', 'TTPAL'}\""
      ]
     },
     "metadata": {},
     "output_type": "display_data"
    },
    {
     "data": {
      "text/plain": [
       "\"human|mir197 - mouse|mir769: 2, {'MBD1', 'ERLIN2'}\""
      ]
     },
     "metadata": {},
     "output_type": "display_data"
    },
    {
     "data": {
      "text/plain": [
       "\"human|mir769 - mouse|mir197: 2, {'STK35', 'TFAM'}\""
      ]
     },
     "metadata": {},
     "output_type": "display_data"
    },
    {
     "data": {
      "text/plain": [
       "\"human|mir769 - mouse|mir769: 3, {'WDR37', 'FAM117B', 'TFAM'}\""
      ]
     },
     "metadata": {},
     "output_type": "display_data"
    },
    {
     "data": {
      "text/plain": [
       "\"mouse|mir197 - mouse|mir769: 3, {'SMYD5', 'SLX4IP', 'TFAM'}\""
      ]
     },
     "metadata": {},
     "output_type": "display_data"
    }
   ],
   "source": [
    "min_reads = 100\n",
    "min_adj_p = 0.05\n",
    "min_logfoldchange = 0.25\n",
    "context_score_cutoff = -0.2\n",
    "\n",
    "# load OMA pairwise orthologs\n",
    "pairwise = read_oma(oma_path)\n",
    "assert len(pairwise) > 0\n",
    "\n",
    "# load predicted targets\n",
    "predicted_targets = pd.read_csv(target_path, sep='\\t')\n",
    "down_and_predicted = find_down_and_predicted(predicted_targets, pairwise, min_reads, min_adj_p, min_logfoldchange, context_score_cutoff)\n",
    "overlap = print_overlaps(down_and_predicted)"
   ]
  },
  {
   "cell_type": "markdown",
   "metadata": {},
   "source": [
    "## Plot"
   ]
  },
  {
   "cell_type": "code",
   "execution_count": 20,
   "metadata": {},
   "outputs": [
    {
     "data": {
      "text/html": [
       "<div>\n",
       "<style scoped>\n",
       "    .dataframe tbody tr th:only-of-type {\n",
       "        vertical-align: middle;\n",
       "    }\n",
       "\n",
       "    .dataframe tbody tr th {\n",
       "        vertical-align: top;\n",
       "    }\n",
       "\n",
       "    .dataframe thead th {\n",
       "        text-align: right;\n",
       "    }\n",
       "</style>\n",
       "<table border=\"1\" class=\"dataframe\">\n",
       "  <thead>\n",
       "    <tr style=\"text-align: right;\">\n",
       "      <th></th>\n",
       "      <th>condition1</th>\n",
       "      <th>condition2</th>\n",
       "      <th>overlap</th>\n",
       "      <th>num_overlap</th>\n",
       "      <th>label</th>\n",
       "    </tr>\n",
       "  </thead>\n",
       "  <tbody>\n",
       "    <tr>\n",
       "      <th>0</th>\n",
       "      <td>human|mir197</td>\n",
       "      <td>human|mir769</td>\n",
       "      <td>{HTR7}</td>\n",
       "      <td>1</td>\n",
       "      <td>human|mir197 - human|mir769</td>\n",
       "    </tr>\n",
       "    <tr>\n",
       "      <th>1</th>\n",
       "      <td>human|mir197</td>\n",
       "      <td>mouse|mir197</td>\n",
       "      <td>{CCDC85C, ARMC1, RAB28, TNFRSF21, ATP6V1A, MPZ...</td>\n",
       "      <td>11</td>\n",
       "      <td>human|mir197 - mouse|mir197</td>\n",
       "    </tr>\n",
       "    <tr>\n",
       "      <th>2</th>\n",
       "      <td>human|mir197</td>\n",
       "      <td>mouse|mir769</td>\n",
       "      <td>{MBD1, ERLIN2}</td>\n",
       "      <td>2</td>\n",
       "      <td>human|mir197 - mouse|mir769</td>\n",
       "    </tr>\n",
       "    <tr>\n",
       "      <th>3</th>\n",
       "      <td>human|mir769</td>\n",
       "      <td>mouse|mir197</td>\n",
       "      <td>{STK35, TFAM}</td>\n",
       "      <td>2</td>\n",
       "      <td>human|mir769 - mouse|mir197</td>\n",
       "    </tr>\n",
       "    <tr>\n",
       "      <th>4</th>\n",
       "      <td>human|mir769</td>\n",
       "      <td>mouse|mir769</td>\n",
       "      <td>{WDR37, FAM117B, TFAM}</td>\n",
       "      <td>3</td>\n",
       "      <td>human|mir769 - mouse|mir769</td>\n",
       "    </tr>\n",
       "    <tr>\n",
       "      <th>5</th>\n",
       "      <td>mouse|mir197</td>\n",
       "      <td>mouse|mir769</td>\n",
       "      <td>{SMYD5, SLX4IP, TFAM}</td>\n",
       "      <td>3</td>\n",
       "      <td>mouse|mir197 - mouse|mir769</td>\n",
       "    </tr>\n",
       "  </tbody>\n",
       "</table>\n",
       "</div>"
      ],
      "text/plain": [
       "     condition1    condition2  \\\n",
       "0  human|mir197  human|mir769   \n",
       "1  human|mir197  mouse|mir197   \n",
       "2  human|mir197  mouse|mir769   \n",
       "3  human|mir769  mouse|mir197   \n",
       "4  human|mir769  mouse|mir769   \n",
       "5  mouse|mir197  mouse|mir769   \n",
       "\n",
       "                                             overlap  num_overlap  \\\n",
       "0                                             {HTR7}            1   \n",
       "1  {CCDC85C, ARMC1, RAB28, TNFRSF21, ATP6V1A, MPZ...           11   \n",
       "2                                     {MBD1, ERLIN2}            2   \n",
       "3                                      {STK35, TFAM}            2   \n",
       "4                             {WDR37, FAM117B, TFAM}            3   \n",
       "5                              {SMYD5, SLX4IP, TFAM}            3   \n",
       "\n",
       "                         label  \n",
       "0  human|mir197 - human|mir769  \n",
       "1  human|mir197 - mouse|mir197  \n",
       "2  human|mir197 - mouse|mir769  \n",
       "3  human|mir769 - mouse|mir197  \n",
       "4  human|mir769 - mouse|mir769  \n",
       "5  mouse|mir197 - mouse|mir769  "
      ]
     },
     "metadata": {},
     "output_type": "display_data"
    },
    {
     "data": {
      "image/png": "[encoded data removed]",
      "text/plain": [
       "<Figure size 640x480 with 1 Axes>"
      ]
     },
     "metadata": {},
     "output_type": "display_data"
    }
   ],
   "source": [
    "import seaborn as sns\n",
    "import matplotlib.pyplot as plt\n",
    "\n",
    "\n",
    "overlap['label'] = overlap.condition1 + ' - ' + overlap.condition2\n",
    "display(overlap)\n",
    "\n",
    "sns.barplot(data=overlap, x='label', y='num_overlap')\n",
    "plt.xticks(rotation=45, ha='right')\n",
    "plt.show()"
   ]
  },
  {
   "cell_type": "markdown",
   "metadata": {},
   "source": [
    "## Export"
   ]
  },
  {
   "cell_type": "code",
   "execution_count": 21,
   "metadata": {},
   "outputs": [],
   "source": [
    "overlap.to_csv(overlap_path, sep='\\t', index=False)"
   ]
  }
 ],
 "metadata": {
  "kernelspec": {
   "display_name": "rodent_loss",
   "language": "python",
   "name": "python3"
  },
  "language_info": {
   "codemirror_mode": {
    "name": "ipython",
    "version": 3
   },
   "file_extension": ".py",
   "mimetype": "text/x-python",
   "name": "python",
   "nbconvert_exporter": "python",
   "pygments_lexer": "ipython3",
   "version": "3.12.5"
  }
 },
 "nbformat": 4,
 "nbformat_minor": 2
}
