{
 "cells": [
  {
   "cell_type": "code",
   "execution_count": 2,
   "metadata": {},
   "outputs": [
    {
     "name": "stdout",
     "output_type": "stream",
     "text": [
      "/home/felixl/PycharmProjects/rodent_loss\n"
     ]
    }
   ],
   "source": [
    "import shutil\n",
    "import os\n",
    "from pathlib import Path\n",
    "\n",
    "PROJECTDIR = Path('.').resolve().parents[1]\n",
    "print(PROJECTDIR)"
   ]
  },
  {
   "cell_type": "markdown",
   "metadata": {},
   "source": [
    "## miRTarBase targets\n",
    "\n",
    "* targets of the lost miRNA families with strong experimental evidence in miRTarBase 9"
   ]
  },
  {
   "cell_type": "code",
   "execution_count": 3,
   "metadata": {},
   "outputs": [
    {
     "data": {
      "text/plain": [
       "'targets_lost_miRNAs_miRTarBase9.tsv'"
      ]
     },
     "execution_count": 3,
     "metadata": {},
     "output_type": "execute_result"
    }
   ],
   "source": [
    "shutil.copyfile(\n",
    "    f'{PROJECTDIR}/analyses/compensation_integration/results/lost_human_targets_strongMTIonly_True.tsv',\n",
    "    'targets_lost_miRNAs_miRTarBase9.tsv'\n",
    "    )"
   ]
  },
  {
   "cell_type": "markdown",
   "metadata": {},
   "source": [
    "## Phylogenetic Profile of protein-coding genes lost in tandem with the miRNAs"
   ]
  },
  {
   "cell_type": "code",
   "execution_count": 4,
   "metadata": {},
   "outputs": [
    {
     "data": {
      "text/plain": [
       "'lost_protein_coding_genes.phyloprofile'"
      ]
     },
     "execution_count": 4,
     "metadata": {},
     "output_type": "execute_result"
    }
   ],
   "source": [
    "shutil.copyfile(\n",
    "    f'{PROJECTDIR}/analyses/protein_loss/results/pearson_similar_05.phyloprofile',\n",
    "    'lost_protein_coding_genes.phyloprofile'\n",
    ")"
   ]
  },
  {
   "cell_type": "markdown",
   "metadata": {},
   "source": [
    "## Entries in the Human Transcription Factor Database that are lost in tandem with the miRNAs"
   ]
  },
  {
   "cell_type": "code",
   "execution_count": 5,
   "metadata": {},
   "outputs": [
    {
     "data": {
      "text/plain": [
       "'lost_TFs_HTFDB.tsv'"
      ]
     },
     "execution_count": 5,
     "metadata": {},
     "output_type": "execute_result"
    }
   ],
   "source": [
    "shutil.copyfile(\n",
    "    f'{PROJECTDIR}/analyses/protein_loss/results/lost_TFs_HTFDB.tsv',\n",
    "    'lost_TFs_HTFDB.tsv'\n",
    ")"
   ]
  },
  {
   "cell_type": "markdown",
   "metadata": {},
   "source": [
    "## Combined differentially expressed genes"
   ]
  },
  {
   "cell_type": "code",
   "execution_count": 4,
   "metadata": {},
   "outputs": [
    {
     "data": {
      "text/html": [
       "<div>\n",
       "<style scoped>\n",
       "    .dataframe tbody tr th:only-of-type {\n",
       "        vertical-align: middle;\n",
       "    }\n",
       "\n",
       "    .dataframe tbody tr th {\n",
       "        vertical-align: top;\n",
       "    }\n",
       "\n",
       "    .dataframe thead th {\n",
       "        text-align: right;\n",
       "    }\n",
       "</style>\n",
       "<table border=\"1\" class=\"dataframe\">\n",
       "  <thead>\n",
       "    <tr style=\"text-align: right;\">\n",
       "      <th></th>\n",
       "      <th>orthomap</th>\n",
       "      <th>organism</th>\n",
       "      <th>mirna</th>\n",
       "      <th>gene</th>\n",
       "      <th>log2FoldChange</th>\n",
       "      <th>pvalue</th>\n",
       "      <th>baseMean</th>\n",
       "      <th>bMctrl</th>\n",
       "      <th>bMtreat</th>\n",
       "      <th>padj</th>\n",
       "    </tr>\n",
       "  </thead>\n",
       "  <tbody>\n",
       "    <tr>\n",
       "      <th>0</th>\n",
       "      <td>ENSG00000163554|ENSMUSG00000026532</td>\n",
       "      <td>mouse</td>\n",
       "      <td>mir769</td>\n",
       "      <td>Spta1</td>\n",
       "      <td>1.359164</td>\n",
       "      <td>2.559578e-53</td>\n",
       "      <td>503.576996</td>\n",
       "      <td>300.984465</td>\n",
       "      <td>773.700369</td>\n",
       "      <td>5.835838e-51</td>\n",
       "    </tr>\n",
       "    <tr>\n",
       "      <th>1</th>\n",
       "      <td>ENSG00000080200|ENSMUSG00000022723</td>\n",
       "      <td>mouse</td>\n",
       "      <td>mir769</td>\n",
       "      <td>Crybg3</td>\n",
       "      <td>1.272506</td>\n",
       "      <td>6.254449e-53</td>\n",
       "      <td>452.001892</td>\n",
       "      <td>280.932331</td>\n",
       "      <td>680.094640</td>\n",
       "      <td>7.130072e-51</td>\n",
       "    </tr>\n",
       "    <tr>\n",
       "      <th>2</th>\n",
       "      <td>ENSG00000137573|ENSMUSG00000016918</td>\n",
       "      <td>mouse</td>\n",
       "      <td>mir769</td>\n",
       "      <td>Sulf1</td>\n",
       "      <td>1.288746</td>\n",
       "      <td>2.595881e-52</td>\n",
       "      <td>376.666610</td>\n",
       "      <td>232.344298</td>\n",
       "      <td>569.096358</td>\n",
       "      <td>1.972870e-50</td>\n",
       "    </tr>\n",
       "    <tr>\n",
       "      <th>3</th>\n",
       "      <td>ENSG00000038427|ENSMUSG00000021614</td>\n",
       "      <td>mouse</td>\n",
       "      <td>mir769</td>\n",
       "      <td>Vcan</td>\n",
       "      <td>0.957800</td>\n",
       "      <td>8.598204e-51</td>\n",
       "      <td>777.529887</td>\n",
       "      <td>553.562720</td>\n",
       "      <td>1076.152776</td>\n",
       "      <td>4.900976e-49</td>\n",
       "    </tr>\n",
       "    <tr>\n",
       "      <th>4</th>\n",
       "      <td>ENSG00000166833|ENSMUSG00000052512</td>\n",
       "      <td>mouse</td>\n",
       "      <td>mir769</td>\n",
       "      <td>Nav2</td>\n",
       "      <td>0.857436</td>\n",
       "      <td>1.147612e-49</td>\n",
       "      <td>1163.853064</td>\n",
       "      <td>863.185061</td>\n",
       "      <td>1564.743734</td>\n",
       "      <td>5.233111e-48</td>\n",
       "    </tr>\n",
       "    <tr>\n",
       "      <th>...</th>\n",
       "      <td>...</td>\n",
       "      <td>...</td>\n",
       "      <td>...</td>\n",
       "      <td>...</td>\n",
       "      <td>...</td>\n",
       "      <td>...</td>\n",
       "      <td>...</td>\n",
       "      <td>...</td>\n",
       "      <td>...</td>\n",
       "      <td>...</td>\n",
       "    </tr>\n",
       "    <tr>\n",
       "      <th>189</th>\n",
       "      <td>ENSG00000023697|ENSMUSG00000030225</td>\n",
       "      <td>human</td>\n",
       "      <td>mir197</td>\n",
       "      <td>DERA</td>\n",
       "      <td>-0.517819</td>\n",
       "      <td>7.564422e-03</td>\n",
       "      <td>93.242527</td>\n",
       "      <td>109.976259</td>\n",
       "      <td>76.508796</td>\n",
       "      <td>7.723673e-03</td>\n",
       "    </tr>\n",
       "    <tr>\n",
       "      <th>190</th>\n",
       "      <td>ENSG00000179542|ENSMUSG00000046699</td>\n",
       "      <td>human</td>\n",
       "      <td>mir197</td>\n",
       "      <td>SLITRK4</td>\n",
       "      <td>-0.526373</td>\n",
       "      <td>8.585381e-03</td>\n",
       "      <td>87.363510</td>\n",
       "      <td>103.306930</td>\n",
       "      <td>71.420089</td>\n",
       "      <td>8.720229e-03</td>\n",
       "    </tr>\n",
       "    <tr>\n",
       "      <th>191</th>\n",
       "      <td>ENSG00000140044|ENSMUSG00000034271</td>\n",
       "      <td>human</td>\n",
       "      <td>mir197</td>\n",
       "      <td>JDP2</td>\n",
       "      <td>0.599764</td>\n",
       "      <td>9.516980e-03</td>\n",
       "      <td>239.610237</td>\n",
       "      <td>190.304484</td>\n",
       "      <td>288.915989</td>\n",
       "      <td>9.616115e-03</td>\n",
       "    </tr>\n",
       "    <tr>\n",
       "      <th>192</th>\n",
       "      <td>ENSG00000075651|ENSMUSG00000027695</td>\n",
       "      <td>human</td>\n",
       "      <td>mir197</td>\n",
       "      <td>PLD1</td>\n",
       "      <td>-0.538208</td>\n",
       "      <td>1.115808e-02</td>\n",
       "      <td>89.500527</td>\n",
       "      <td>106.188377</td>\n",
       "      <td>72.812678</td>\n",
       "      <td>1.121590e-02</td>\n",
       "    </tr>\n",
       "    <tr>\n",
       "      <th>193</th>\n",
       "      <td>ENSG00000100285|ENSMUSG00000020396</td>\n",
       "      <td>human</td>\n",
       "      <td>mir197</td>\n",
       "      <td>NEFH</td>\n",
       "      <td>0.686716</td>\n",
       "      <td>1.539261e-02</td>\n",
       "      <td>172.683381</td>\n",
       "      <td>132.110327</td>\n",
       "      <td>213.256435</td>\n",
       "      <td>1.539261e-02</td>\n",
       "    </tr>\n",
       "  </tbody>\n",
       "</table>\n",
       "<p>741 rows × 10 columns</p>\n",
       "</div>"
      ],
      "text/plain": [
       "                               orthomap organism   mirna     gene  \\\n",
       "0    ENSG00000163554|ENSMUSG00000026532    mouse  mir769    Spta1   \n",
       "1    ENSG00000080200|ENSMUSG00000022723    mouse  mir769   Crybg3   \n",
       "2    ENSG00000137573|ENSMUSG00000016918    mouse  mir769    Sulf1   \n",
       "3    ENSG00000038427|ENSMUSG00000021614    mouse  mir769     Vcan   \n",
       "4    ENSG00000166833|ENSMUSG00000052512    mouse  mir769     Nav2   \n",
       "..                                  ...      ...     ...      ...   \n",
       "189  ENSG00000023697|ENSMUSG00000030225    human  mir197     DERA   \n",
       "190  ENSG00000179542|ENSMUSG00000046699    human  mir197  SLITRK4   \n",
       "191  ENSG00000140044|ENSMUSG00000034271    human  mir197     JDP2   \n",
       "192  ENSG00000075651|ENSMUSG00000027695    human  mir197     PLD1   \n",
       "193  ENSG00000100285|ENSMUSG00000020396    human  mir197     NEFH   \n",
       "\n",
       "     log2FoldChange        pvalue     baseMean      bMctrl      bMtreat  \\\n",
       "0          1.359164  2.559578e-53   503.576996  300.984465   773.700369   \n",
       "1          1.272506  6.254449e-53   452.001892  280.932331   680.094640   \n",
       "2          1.288746  2.595881e-52   376.666610  232.344298   569.096358   \n",
       "3          0.957800  8.598204e-51   777.529887  553.562720  1076.152776   \n",
       "4          0.857436  1.147612e-49  1163.853064  863.185061  1564.743734   \n",
       "..              ...           ...          ...         ...          ...   \n",
       "189       -0.517819  7.564422e-03    93.242527  109.976259    76.508796   \n",
       "190       -0.526373  8.585381e-03    87.363510  103.306930    71.420089   \n",
       "191        0.599764  9.516980e-03   239.610237  190.304484   288.915989   \n",
       "192       -0.538208  1.115808e-02    89.500527  106.188377    72.812678   \n",
       "193        0.686716  1.539261e-02   172.683381  132.110327   213.256435   \n",
       "\n",
       "             padj  \n",
       "0    5.835838e-51  \n",
       "1    7.130072e-51  \n",
       "2    1.972870e-50  \n",
       "3    4.900976e-49  \n",
       "4    5.233111e-48  \n",
       "..            ...  \n",
       "189  7.723673e-03  \n",
       "190  8.720229e-03  \n",
       "191  9.616115e-03  \n",
       "192  1.121590e-02  \n",
       "193  1.539261e-02  \n",
       "\n",
       "[741 rows x 10 columns]"
      ]
     },
     "metadata": {},
     "output_type": "display_data"
    }
   ],
   "source": [
    "from glob import glob\n",
    "import pandas as pd\n",
    "\n",
    "rnaseqfiles = glob(f'{PROJECTDIR}/milestones/data/rnaseq/*')\n",
    "col = []\n",
    "for file in rnaseqfiles:\n",
    "    col.append(pd.read_csv(file, sep='\\t'))\n",
    "allrnaseq = pd.concat(col)\n",
    "display(allrnaseq)\n",
    "\n",
    "allrnaseq.to_csv('all_differentially_expressed_genes.tsv', sep='\\t')"
   ]
  }
 ],
 "metadata": {
  "kernelspec": {
   "display_name": "rodent_loss",
   "language": "python",
   "name": "python3"
  },
  "language_info": {
   "codemirror_mode": {
    "name": "ipython",
    "version": 3
   },
   "file_extension": ".py",
   "mimetype": "text/x-python",
   "name": "python",
   "nbconvert_exporter": "python",
   "pygments_lexer": "ipython3",
   "version": "3.12.5"
  }
 },
 "nbformat": 4,
 "nbformat_minor": 2
}
